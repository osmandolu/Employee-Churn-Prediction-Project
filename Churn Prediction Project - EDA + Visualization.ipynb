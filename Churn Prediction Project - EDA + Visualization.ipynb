{
 "cells": [
  {
   "cell_type": "markdown",
   "metadata": {
    "id": "Mg_ZAS0B2slE"
   },
   "source": [
    "___\n",
    "\n",
    "<p style=\"text-align: center;\"><img src=\"https://docs.google.com/uc?id=1lY0Uj5R04yMY3-ZppPWxqCr5pvBLYPnV\" class=\"img-fluid\" alt=\"CLRSWY\"></p>\n",
    "\n",
    "___"
   ]
  },
  {
   "cell_type": "markdown",
   "metadata": {
    "id": "8EjVhtzq2slH"
   },
   "source": [
    "# WELCOME!"
   ]
  },
  {
   "cell_type": "markdown",
   "metadata": {
    "id": "JqV3cXW-2slL"
   },
   "source": [
    "Welcome to \"***Employee Churn Analysis Project***\". This is the second project of Capstone Project Series, which you will be able to build your own classification models for a variety of business settings. \n",
    "\n",
    "Also you will research what is Employee Churn?, How it is different from customer churn, Exploratory data analysis and visualization of employee churn dataset using ***matplotlib*** and ***seaborn***, model building and evaluation using python ***scikit-learn*** and ***Tensorflow-Keras*** packages. \n",
    "\n",
    "You will be able to implement classification techniques in Python. Using Scikit-Learn allowing you to successfully make predictions with Distance Based, Bagging, Boosting algorithms for this project. On the other hand, for Deep Learning you will use Tensorflow-Keras. \n",
    "\n",
    "At the end of the project, you will have the opportunity to deploy your model using *Streamlit*.\n",
    "\n",
    "Before diving into the project, please take a look at the determines and project structure.\n",
    "\n",
    "- NOTE: This project assumes that you already know the basics of coding in Python and are familiar with model deployement as well as the theory behind Distance Based, Bagging, Boosting algorithms, and Confusion Matrices. You can try more models and methods beside these to improve your model metrics.\n",
    "\n"
   ]
  },
  {
   "cell_type": "markdown",
   "metadata": {
    "id": "4oRnVXpS2slN"
   },
   "source": [
    "# #Determines\n",
    "In this project you have HR data of a company. A study is requested from you to predict which employee will churn by using this data.\n",
    "\n",
    "The HR dataset has 14,999 samples. In the given dataset, you have two types of employee one who stayed and another who left the company.\n",
    "\n",
    "You can describe 10 attributes in detail as:\n",
    "- ***satisfaction_level:*** It is employee satisfaction point, which ranges from 0-1.\n",
    "- ***last_evaluation:*** It is evaluated performance by the employer, which also ranges from 0-1.\n",
    "- ***number_projects:*** How many of projects assigned to an employee?\n",
    "- ***average_monthly_hours:*** How many hours in averega an employee worked in a month?\n",
    "- **time_spent_company:** time_spent_company means employee experience. The number of years spent by an employee in the company.\n",
    "- ***work_accident:*** Whether an employee has had a work accident or not.\n",
    "- ***promotion_last_5years:*** Whether an employee has had a promotion in the last 5 years or not.\n",
    "- ***Departments:*** Employee's working department/division.\n",
    "- ***Salary:*** Salary level of the employee such as low, medium and high.\n",
    "- ***left:*** Whether the employee has left the company or not.\n",
    "\n",
    "First of all, to observe the structure of the data, outliers, missing values and features that affect the target variable, you must use exploratory data analysis and data visualization techniques. \n",
    "\n",
    "Then, you must perform data pre-processing operations such as ***Scaling*** and ***Encoding*** to increase the accuracy score of Gradient Descent Based or Distance-Based algorithms. you are asked to perform ***Cluster Analysis*** based on the information you obtain during exploratory data analysis and data visualization processes. \n",
    "\n",
    "The purpose of clustering analysis is to cluster data with similar characteristics. You are asked to use the ***K-means*** algorithm to make cluster analysis. However, you must provide the K-means algorithm with information about the number of clusters it will make predictions. Also, the data you apply to the K-means algorithm must be scaled. In order to find the optimal number of clusters, you are asked to use the ***Elbow method***. Briefly, try to predict the set to which individuals are related by using K-means and evaluate the estimation results.\n",
    "\n",
    "Once the data is ready to be applied to the model, you must ***split the data into train and test***. Then build a model to predict whether employees will churn or not. Train your models with your train set, test the success of your model with your test set. \n",
    "\n",
    "Try to make your predictions by using the algorithms ***Logistic Regression***, ***Random Forest Classifier***, ***XGBoost Classifier***, ***ANN***. You can use the related modules of the ***scikit-learn*** and ***Tensorflow-Keras*** library. You can use scikit-learn ***Classification Metrics*** module for accuracy calculation. You can use the ***Yellowbrick*** module for model selection and visualization.\n",
    "\n",
    "In the final step, you will deploy your model using Streamlit tool.\n",
    "\n"
   ]
  },
  {
   "cell_type": "markdown",
   "metadata": {
    "id": "97xzRLNj2slO"
   },
   "source": [
    "# #Tasks\n",
    "\n",
    "#### 1. Exploratory Data Analysis\n",
    "- Importing Modules\n",
    "- Loading Dataset\n",
    "- Data Insigts\n",
    "\n",
    "#### 2. Data Visualization\n",
    "- Employees Left\n",
    "- Determine Number of Projects\n",
    "- Determine Time Spent in Company\n",
    "- Subplots of Features\n",
    "\n",
    "#### 3. Data Pre-Processing\n",
    "- Scaling\n",
    "- Label Encoding\n",
    "\n",
    "#### 4. Cluster Analysis\n",
    "- Find the optimal number of clusters (k) using the elbow method for for K-means.\n",
    "- Determine the clusters by using K-Means then Evaluate predicted results.\n",
    "\n",
    "#### 5. Model Building\n",
    "- Split Data as Train and Test set\n",
    "- Built Distance Based and Evaluate Model Performance and Predict Test Data\n",
    "- Built Random Forest Classifier and Evaluate Model Performance and Predict Test Data\n",
    "- Built XGBoost Classifier, Evaluate Model Performance and Predict Test Data\n",
    "- Built ANN Classifier, Evaluate Model Performance and Predict Test Data\n",
    "\n",
    "#### 6. Model Deployement\n",
    "\n",
    "- Save and Export the Best Model\n",
    "- Save and Export Variables\n",
    "- Deploy best model via Streamlit"
   ]
  },
  {
   "cell_type": "markdown",
   "metadata": {
    "id": "WLTGi7q02slP"
   },
   "source": [
    "## 1. Exploratory Data Analysis\n",
    "\n",
    "Exploratory Data Analysis is an initial process of analysis, in which you can summarize characteristics of data such as pattern, trends, outliers, and hypothesis testing using descriptive statistics and visualization."
   ]
  },
  {
   "cell_type": "code",
   "execution_count": 1,
   "metadata": {
    "ExecuteTime": {
     "end_time": "2022-11-03T19:11:58.510904Z",
     "start_time": "2022-11-03T19:11:58.494900Z"
    },
    "colab": {
     "base_uri": "https://localhost:8080/"
    },
    "id": "nyUCvXyU2slQ",
    "outputId": "df73e615-697a-47b1-ce6c-efe1185f8011"
   },
   "outputs": [],
   "source": [
    "# pip install pyclustertend"
   ]
  },
  {
   "cell_type": "code",
   "execution_count": 2,
   "metadata": {
    "ExecuteTime": {
     "end_time": "2022-11-03T19:11:58.526907Z",
     "start_time": "2022-11-03T19:11:58.512905Z"
    },
    "colab": {
     "base_uri": "https://localhost:8080/"
    },
    "id": "zZoDmDW5Jdl2",
    "outputId": "50490507-c8eb-41c5-e92d-50ee86fd01b1"
   },
   "outputs": [],
   "source": [
    "# pip install matplotlib-venn"
   ]
  },
  {
   "cell_type": "code",
   "execution_count": 3,
   "metadata": {
    "ExecuteTime": {
     "end_time": "2022-11-03T19:11:58.542911Z",
     "start_time": "2022-11-03T19:11:58.527907Z"
    },
    "colab": {
     "base_uri": "https://localhost:8080/"
    },
    "id": "Dgc_YiAwJqH7",
    "outputId": "4c3d8d4d-bf1c-4ac0-b744-42a482c89de6"
   },
   "outputs": [],
   "source": [
    "# pip install colorama"
   ]
  },
  {
   "cell_type": "code",
   "execution_count": 4,
   "metadata": {
    "ExecuteTime": {
     "end_time": "2022-11-03T19:11:58.558915Z",
     "start_time": "2022-11-03T19:11:58.544912Z"
    },
    "colab": {
     "base_uri": "https://localhost:8080/"
    },
    "id": "Zlu97Y36Lk7Z",
    "outputId": "cda72037-edbb-475a-c020-011fcf09d681"
   },
   "outputs": [],
   "source": [
    "# pip install optuna"
   ]
  },
  {
   "cell_type": "code",
   "execution_count": 5,
   "metadata": {
    "ExecuteTime": {
     "end_time": "2022-11-03T19:11:58.574918Z",
     "start_time": "2022-11-03T19:11:58.559915Z"
    },
    "colab": {
     "base_uri": "https://localhost:8080/"
    },
    "id": "75jnJtjlNO4Z",
    "outputId": "a178e16a-5ae1-44c3-f51e-5cabcffa9c12"
   },
   "outputs": [],
   "source": [
    "# pip install catboost"
   ]
  },
  {
   "cell_type": "code",
   "execution_count": 6,
   "metadata": {
    "ExecuteTime": {
     "end_time": "2022-11-03T19:11:58.590922Z",
     "start_time": "2022-11-03T19:11:58.575919Z"
    },
    "colab": {
     "base_uri": "https://localhost:8080/"
    },
    "id": "JRDnwmn-N0wO",
    "outputId": "bf0bd8e2-d7ea-4208-bb3f-9ae24ecd62f0"
   },
   "outputs": [],
   "source": [
    "# pip install chart_studio"
   ]
  },
  {
   "cell_type": "code",
   "execution_count": 7,
   "metadata": {
    "ExecuteTime": {
     "end_time": "2022-11-03T19:11:58.606926Z",
     "start_time": "2022-11-03T19:11:58.591922Z"
    },
    "colab": {
     "base_uri": "https://localhost:8080/"
    },
    "id": "T6mTwKTayFwU",
    "outputId": "99a97b49-3dbb-495a-9ad3-1bf2eb006462"
   },
   "outputs": [],
   "source": [
    "# pip install xgboost=0.90\n"
   ]
  },
  {
   "cell_type": "markdown",
   "metadata": {
    "id": "TyrWBiyM2sld"
   },
   "source": [
    "### Importing Modules"
   ]
  },
  {
   "cell_type": "code",
   "execution_count": 8,
   "metadata": {
    "ExecuteTime": {
     "end_time": "2022-11-03T19:12:00.400951Z",
     "start_time": "2022-11-03T19:11:58.607926Z"
    },
    "id": "TI19sGjE2slf"
   },
   "outputs": [],
   "source": [
    "import pandas as pd\n",
    "import numpy as np\n",
    "import seaborn as sns\n",
    "import matplotlib.pyplot as plt\n",
    "%matplotlib inline\n",
    "import matplotlib.ticker as mticker\n",
    "#import squarify as sq"
   ]
  },
  {
   "cell_type": "code",
   "execution_count": 9,
   "metadata": {
    "ExecuteTime": {
     "end_time": "2022-11-03T19:12:01.482121Z",
     "start_time": "2022-11-03T19:12:00.402952Z"
    },
    "id": "l0-k7T83IzhV"
   },
   "outputs": [],
   "source": [
    "import plotly \n",
    "import plotly.express as px\n",
    "import plotly.graph_objs as go\n",
    "import plotly.offline as pycon\n",
    "from plotly.offline import iplot\n",
    "from plotly.subplots import make_subplots\n",
    "import plotly.figure_factory as ff"
   ]
  },
  {
   "cell_type": "code",
   "execution_count": 10,
   "metadata": {
    "ExecuteTime": {
     "end_time": "2022-11-03T19:12:01.498125Z",
     "start_time": "2022-11-03T19:12:01.485122Z"
    },
    "id": "AVu-w2NZI_yY"
   },
   "outputs": [],
   "source": [
    "import colorama\n",
    "from colorama import Fore, Style  # makes strings colored\n",
    "from termcolor import colored\n",
    "from termcolor import cprint"
   ]
  },
  {
   "cell_type": "code",
   "execution_count": 11,
   "metadata": {
    "ExecuteTime": {
     "end_time": "2022-11-03T19:12:01.848204Z",
     "start_time": "2022-11-03T19:12:01.499125Z"
    },
    "id": "Hqo5fkfSJzen"
   },
   "outputs": [],
   "source": [
    "from wordcloud import WordCloud\n",
    "\n",
    "import scipy.stats as stats\n",
    "from scipy.cluster.hierarchy import linkage, dendrogram\n",
    "import statsmodels.api as sm\n",
    "import statsmodels.formula.api as smf\n",
    "import missingno as msno"
   ]
  },
  {
   "cell_type": "code",
   "execution_count": 12,
   "metadata": {
    "ExecuteTime": {
     "end_time": "2022-11-03T19:12:01.864208Z",
     "start_time": "2022-11-03T19:12:01.849205Z"
    },
    "id": "C39l2ybGJ4es"
   },
   "outputs": [],
   "source": [
    "import datetime as dt\n",
    "from datetime import datetime\n",
    "# import optuna\n",
    "# from pyclustertend import hopkins"
   ]
  },
  {
   "cell_type": "code",
   "execution_count": 13,
   "metadata": {
    "ExecuteTime": {
     "end_time": "2022-11-03T19:12:02.054255Z",
     "start_time": "2022-11-03T19:12:01.866208Z"
    },
    "id": "fJZF7mbkMLj4"
   },
   "outputs": [],
   "source": [
    "from sklearn.cluster import KMeans, AgglomerativeClustering\n",
    "from sklearn.compose import make_column_transformer, ColumnTransformer\n",
    "from sklearn.decomposition import PCA\n",
    "from sklearn.discriminant_analysis import LinearDiscriminantAnalysis\n",
    "from sklearn.dummy import DummyClassifier\n",
    "from sklearn.ensemble import RandomForestRegressor, RandomForestClassifier, GradientBoostingRegressor \n",
    "from sklearn.ensemble import ExtraTreesRegressor, AdaBoostClassifier, GradientBoostingClassifier, ExtraTreesClassifier\n",
    "from sklearn.feature_selection import SelectKBest, SelectPercentile, f_classif, f_regression, mutual_info_regression\n",
    "from sklearn.impute import SimpleImputer, KNNImputer\n",
    "from sklearn.linear_model import LinearRegression, Lasso, Ridge, ElasticNet, LogisticRegression\n",
    "from sklearn.metrics import plot_confusion_matrix, r2_score, mean_absolute_error, mean_squared_error\n",
    "from sklearn.metrics import confusion_matrix, accuracy_score, classification_report\n",
    "from sklearn.metrics import make_scorer, precision_score, precision_recall_curve, plot_precision_recall_curve \n",
    "from sklearn.metrics import plot_roc_curve, roc_auc_score, roc_curve, f1_score, accuracy_score, recall_score\n",
    "from sklearn.metrics import silhouette_samples,silhouette_score\n",
    "from sklearn.metrics.cluster import adjusted_rand_score\n",
    "from sklearn.model_selection import RandomizedSearchCV\n",
    "from sklearn.model_selection import RepeatedStratifiedKFold, KFold, cross_val_predict, train_test_split\n",
    "from sklearn.model_selection import StratifiedKFold, GridSearchCV, cross_val_score, cross_validate\n"
   ]
  },
  {
   "cell_type": "code",
   "execution_count": 14,
   "metadata": {
    "ExecuteTime": {
     "end_time": "2022-11-03T19:12:02.070259Z",
     "start_time": "2022-11-03T19:12:02.055256Z"
    },
    "id": "3Ou3ExOXMRFR"
   },
   "outputs": [],
   "source": [
    "from sklearn.naive_bayes import GaussianNB\n",
    "from sklearn.neighbors import KNeighborsRegressor, KNeighborsClassifier\n",
    "from sklearn.pipeline import make_pipeline, Pipeline\n",
    "from sklearn.preprocessing import MinMaxScaler, scale, StandardScaler, RobustScaler\n",
    "from sklearn.preprocessing import LabelEncoder, OneHotEncoder, PolynomialFeatures, PowerTransformer  \n",
    "from sklearn.svm import SVR, SVC\n",
    "from sklearn.tree import DecisionTreeClassifier, plot_tree "
   ]
  },
  {
   "cell_type": "code",
   "execution_count": 15,
   "metadata": {
    "ExecuteTime": {
     "end_time": "2022-11-03T19:12:02.085264Z",
     "start_time": "2022-11-03T19:12:02.071259Z"
    },
    "id": "stYM1Vh3Manf"
   },
   "outputs": [],
   "source": [
    "# from catboost import CatBoostClassifier\n",
    "# from lightgbm import LGBMClassifier\n",
    "# from xgboost import XGBRegressor, XGBClassifier, plot_importance"
   ]
  },
  {
   "cell_type": "code",
   "execution_count": 16,
   "metadata": {
    "ExecuteTime": {
     "end_time": "2022-11-03T19:12:02.100267Z",
     "start_time": "2022-11-03T19:12:02.086264Z"
    },
    "id": "FcELNYk2MEh1"
   },
   "outputs": [],
   "source": [
    "# Ignore Warnings\n",
    "import warnings\n",
    "warnings.filterwarnings(\"ignore\")\n",
    "warnings.warn(\"this will not show\")"
   ]
  },
  {
   "cell_type": "code",
   "execution_count": 17,
   "metadata": {
    "ExecuteTime": {
     "end_time": "2022-11-03T19:12:02.116270Z",
     "start_time": "2022-11-03T19:12:02.101266Z"
    },
    "id": "x7GM9afaOBar"
   },
   "outputs": [],
   "source": [
    "plt.rcParams[\"figure.figsize\"] = (10,6)\n",
    "pd.set_option('max_colwidth',200)\n",
    "pd.set_option('display.max_rows', 1000)\n",
    "pd.set_option('display.max_columns', 200)\n",
    "pd.set_option('display.float_format', lambda x: '%.3f' % x)"
   ]
  },
  {
   "cell_type": "markdown",
   "metadata": {
    "id": "vS9n2J9-2sln"
   },
   "source": [
    "### Loading Dataset\n",
    "\n",
    "Let's first load the required HR dataset using pandas's \"read_csv\" function."
   ]
  },
  {
   "cell_type": "code",
   "execution_count": 18,
   "metadata": {
    "ExecuteTime": {
     "end_time": "2022-11-03T19:12:02.148281Z",
     "start_time": "2022-11-03T19:12:02.118270Z"
    },
    "id": "WvOIqQTdB7oC"
   },
   "outputs": [],
   "source": [
    "df=pd.read_csv('HR_Dataset.csv')"
   ]
  },
  {
   "cell_type": "code",
   "execution_count": 19,
   "metadata": {
    "ExecuteTime": {
     "end_time": "2022-11-03T19:12:02.163284Z",
     "start_time": "2022-11-03T19:12:02.150281Z"
    },
    "colab": {
     "base_uri": "https://localhost:8080/"
    },
    "id": "p30NyqoTD1dJ",
    "outputId": "a9923032-d5aa-488b-f161-b53846c3fe4f"
   },
   "outputs": [],
   "source": [
    "# from google.colab import drive\n",
    "# drive.mount('/content/drive')\n",
    "#df=pd.read_csv('/content/HR_Dataset.csv')"
   ]
  },
  {
   "cell_type": "code",
   "execution_count": 20,
   "metadata": {
    "ExecuteTime": {
     "end_time": "2022-11-03T19:12:02.179289Z",
     "start_time": "2022-11-03T19:12:02.164285Z"
    }
   },
   "outputs": [],
   "source": [
    "# pip install skimpy"
   ]
  },
  {
   "cell_type": "code",
   "execution_count": 21,
   "metadata": {
    "ExecuteTime": {
     "end_time": "2022-11-03T19:12:02.274309Z",
     "start_time": "2022-11-03T19:12:02.181289Z"
    }
   },
   "outputs": [
    {
     "data": {
      "text/html": [
       "<pre style=\"white-space:pre;overflow-x:auto;line-height:normal;font-family:Menlo,'DejaVu Sans Mono',consolas,'Courier New',monospace\"><span style=\"color: #008080; text-decoration-color: #008080; font-weight: bold\">2</span> column names have been cleaned\n",
       "</pre>\n"
      ],
      "text/plain": [
       "\u001b[1;36m2\u001b[0m column names have been cleaned\n"
      ]
     },
     "metadata": {},
     "output_type": "display_data"
    }
   ],
   "source": [
    "from skimpy import clean_columns\n",
    "df = clean_columns(df)"
   ]
  },
  {
   "cell_type": "code",
   "execution_count": 22,
   "metadata": {
    "ExecuteTime": {
     "end_time": "2022-11-03T19:12:02.290313Z",
     "start_time": "2022-11-03T19:12:02.275312Z"
    },
    "colab": {
     "base_uri": "https://localhost:8080/"
    },
    "id": "s8GMNbJpa_i6",
    "outputId": "fb39058b-bb07-4870-960f-ef7eeb07bd7e"
   },
   "outputs": [
    {
     "data": {
      "text/plain": [
       "Index(['satisfaction_level', 'last_evaluation', 'number_project',\n",
       "       'average_montly_hours', 'time_spend_company', 'work_accident', 'left',\n",
       "       'promotion_last_5years', 'departments', 'salary'],\n",
       "      dtype='object')"
      ]
     },
     "execution_count": 22,
     "metadata": {},
     "output_type": "execute_result"
    }
   ],
   "source": [
    "df.columns"
   ]
  },
  {
   "cell_type": "code",
   "execution_count": 23,
   "metadata": {
    "ExecuteTime": {
     "end_time": "2022-11-03T19:12:02.305316Z",
     "start_time": "2022-11-03T19:12:02.291314Z"
    },
    "colab": {
     "base_uri": "https://localhost:8080/",
     "height": 270
    },
    "id": "jdsIS8x5a7bT",
    "outputId": "09310c11-1117-4daa-c729-b5f8d6919973"
   },
   "outputs": [
    {
     "data": {
      "text/html": [
       "<div>\n",
       "<style scoped>\n",
       "    .dataframe tbody tr th:only-of-type {\n",
       "        vertical-align: middle;\n",
       "    }\n",
       "\n",
       "    .dataframe tbody tr th {\n",
       "        vertical-align: top;\n",
       "    }\n",
       "\n",
       "    .dataframe thead th {\n",
       "        text-align: right;\n",
       "    }\n",
       "</style>\n",
       "<table border=\"1\" class=\"dataframe\">\n",
       "  <thead>\n",
       "    <tr style=\"text-align: right;\">\n",
       "      <th></th>\n",
       "      <th>satisfaction_level</th>\n",
       "      <th>last_evaluation</th>\n",
       "      <th>number_project</th>\n",
       "      <th>average_montly_hours</th>\n",
       "      <th>time_spend_company</th>\n",
       "      <th>work_accident</th>\n",
       "      <th>left</th>\n",
       "      <th>promotion_last_5years</th>\n",
       "      <th>departments</th>\n",
       "      <th>salary</th>\n",
       "    </tr>\n",
       "  </thead>\n",
       "  <tbody>\n",
       "    <tr>\n",
       "      <th>0</th>\n",
       "      <td>0.380</td>\n",
       "      <td>0.530</td>\n",
       "      <td>2</td>\n",
       "      <td>157</td>\n",
       "      <td>3</td>\n",
       "      <td>0</td>\n",
       "      <td>1</td>\n",
       "      <td>0</td>\n",
       "      <td>sales</td>\n",
       "      <td>low</td>\n",
       "    </tr>\n",
       "    <tr>\n",
       "      <th>1</th>\n",
       "      <td>0.800</td>\n",
       "      <td>0.860</td>\n",
       "      <td>5</td>\n",
       "      <td>262</td>\n",
       "      <td>6</td>\n",
       "      <td>0</td>\n",
       "      <td>1</td>\n",
       "      <td>0</td>\n",
       "      <td>sales</td>\n",
       "      <td>medium</td>\n",
       "    </tr>\n",
       "    <tr>\n",
       "      <th>2</th>\n",
       "      <td>0.110</td>\n",
       "      <td>0.880</td>\n",
       "      <td>7</td>\n",
       "      <td>272</td>\n",
       "      <td>4</td>\n",
       "      <td>0</td>\n",
       "      <td>1</td>\n",
       "      <td>0</td>\n",
       "      <td>sales</td>\n",
       "      <td>medium</td>\n",
       "    </tr>\n",
       "    <tr>\n",
       "      <th>3</th>\n",
       "      <td>0.720</td>\n",
       "      <td>0.870</td>\n",
       "      <td>5</td>\n",
       "      <td>223</td>\n",
       "      <td>5</td>\n",
       "      <td>0</td>\n",
       "      <td>1</td>\n",
       "      <td>0</td>\n",
       "      <td>sales</td>\n",
       "      <td>low</td>\n",
       "    </tr>\n",
       "    <tr>\n",
       "      <th>4</th>\n",
       "      <td>0.370</td>\n",
       "      <td>0.520</td>\n",
       "      <td>2</td>\n",
       "      <td>159</td>\n",
       "      <td>3</td>\n",
       "      <td>0</td>\n",
       "      <td>1</td>\n",
       "      <td>0</td>\n",
       "      <td>sales</td>\n",
       "      <td>low</td>\n",
       "    </tr>\n",
       "  </tbody>\n",
       "</table>\n",
       "</div>"
      ],
      "text/plain": [
       "   satisfaction_level  last_evaluation  number_project  average_montly_hours  \\\n",
       "0               0.380            0.530               2                   157   \n",
       "1               0.800            0.860               5                   262   \n",
       "2               0.110            0.880               7                   272   \n",
       "3               0.720            0.870               5                   223   \n",
       "4               0.370            0.520               2                   159   \n",
       "\n",
       "   time_spend_company  work_accident  left  promotion_last_5years departments  \\\n",
       "0                   3              0     1                      0       sales   \n",
       "1                   6              0     1                      0       sales   \n",
       "2                   4              0     1                      0       sales   \n",
       "3                   5              0     1                      0       sales   \n",
       "4                   3              0     1                      0       sales   \n",
       "\n",
       "   salary  \n",
       "0     low  \n",
       "1  medium  \n",
       "2  medium  \n",
       "3     low  \n",
       "4     low  "
      ]
     },
     "execution_count": 23,
     "metadata": {},
     "output_type": "execute_result"
    }
   ],
   "source": [
    "df.head()"
   ]
  },
  {
   "cell_type": "code",
   "execution_count": 24,
   "metadata": {
    "ExecuteTime": {
     "end_time": "2022-11-03T19:12:02.321320Z",
     "start_time": "2022-11-03T19:12:02.306318Z"
    },
    "colab": {
     "base_uri": "https://localhost:8080/",
     "height": 270
    },
    "id": "ex9OlPTuPK5I",
    "outputId": "aaff39a5-c94d-4757-eca3-8aa8d7cc63a7"
   },
   "outputs": [
    {
     "data": {
      "text/html": [
       "<div>\n",
       "<style scoped>\n",
       "    .dataframe tbody tr th:only-of-type {\n",
       "        vertical-align: middle;\n",
       "    }\n",
       "\n",
       "    .dataframe tbody tr th {\n",
       "        vertical-align: top;\n",
       "    }\n",
       "\n",
       "    .dataframe thead th {\n",
       "        text-align: right;\n",
       "    }\n",
       "</style>\n",
       "<table border=\"1\" class=\"dataframe\">\n",
       "  <thead>\n",
       "    <tr style=\"text-align: right;\">\n",
       "      <th></th>\n",
       "      <th>satisfaction_level</th>\n",
       "      <th>last_evaluation</th>\n",
       "      <th>number_project</th>\n",
       "      <th>average_montly_hours</th>\n",
       "      <th>time_spend_company</th>\n",
       "      <th>work_accident</th>\n",
       "      <th>left</th>\n",
       "      <th>promotion_last_5years</th>\n",
       "      <th>departments</th>\n",
       "      <th>salary</th>\n",
       "    </tr>\n",
       "  </thead>\n",
       "  <tbody>\n",
       "    <tr>\n",
       "      <th>4394</th>\n",
       "      <td>0.810</td>\n",
       "      <td>0.840</td>\n",
       "      <td>4</td>\n",
       "      <td>143</td>\n",
       "      <td>2</td>\n",
       "      <td>0</td>\n",
       "      <td>0</td>\n",
       "      <td>0</td>\n",
       "      <td>technical</td>\n",
       "      <td>medium</td>\n",
       "    </tr>\n",
       "    <tr>\n",
       "      <th>3347</th>\n",
       "      <td>0.450</td>\n",
       "      <td>0.390</td>\n",
       "      <td>4</td>\n",
       "      <td>275</td>\n",
       "      <td>3</td>\n",
       "      <td>0</td>\n",
       "      <td>0</td>\n",
       "      <td>0</td>\n",
       "      <td>IT</td>\n",
       "      <td>medium</td>\n",
       "    </tr>\n",
       "    <tr>\n",
       "      <th>876</th>\n",
       "      <td>0.910</td>\n",
       "      <td>0.940</td>\n",
       "      <td>5</td>\n",
       "      <td>257</td>\n",
       "      <td>5</td>\n",
       "      <td>0</td>\n",
       "      <td>1</td>\n",
       "      <td>0</td>\n",
       "      <td>technical</td>\n",
       "      <td>low</td>\n",
       "    </tr>\n",
       "    <tr>\n",
       "      <th>5786</th>\n",
       "      <td>0.550</td>\n",
       "      <td>0.970</td>\n",
       "      <td>3</td>\n",
       "      <td>222</td>\n",
       "      <td>2</td>\n",
       "      <td>0</td>\n",
       "      <td>0</td>\n",
       "      <td>0</td>\n",
       "      <td>management</td>\n",
       "      <td>medium</td>\n",
       "    </tr>\n",
       "    <tr>\n",
       "      <th>4741</th>\n",
       "      <td>0.610</td>\n",
       "      <td>0.500</td>\n",
       "      <td>4</td>\n",
       "      <td>271</td>\n",
       "      <td>3</td>\n",
       "      <td>1</td>\n",
       "      <td>0</td>\n",
       "      <td>0</td>\n",
       "      <td>sales</td>\n",
       "      <td>medium</td>\n",
       "    </tr>\n",
       "  </tbody>\n",
       "</table>\n",
       "</div>"
      ],
      "text/plain": [
       "      satisfaction_level  last_evaluation  number_project  \\\n",
       "4394               0.810            0.840               4   \n",
       "3347               0.450            0.390               4   \n",
       "876                0.910            0.940               5   \n",
       "5786               0.550            0.970               3   \n",
       "4741               0.610            0.500               4   \n",
       "\n",
       "      average_montly_hours  time_spend_company  work_accident  left  \\\n",
       "4394                   143                   2              0     0   \n",
       "3347                   275                   3              0     0   \n",
       "876                    257                   5              0     1   \n",
       "5786                   222                   2              0     0   \n",
       "4741                   271                   3              1     0   \n",
       "\n",
       "      promotion_last_5years departments  salary  \n",
       "4394                      0   technical  medium  \n",
       "3347                      0          IT  medium  \n",
       "876                       0   technical     low  \n",
       "5786                      0  management  medium  \n",
       "4741                      0       sales  medium  "
      ]
     },
     "execution_count": 24,
     "metadata": {},
     "output_type": "execute_result"
    }
   ],
   "source": [
    "df.sample(5)"
   ]
  },
  {
   "cell_type": "code",
   "execution_count": 25,
   "metadata": {
    "ExecuteTime": {
     "end_time": "2022-11-03T19:12:02.336323Z",
     "start_time": "2022-11-03T19:12:02.322321Z"
    },
    "colab": {
     "base_uri": "https://localhost:8080/"
    },
    "id": "ZRU8-K8PZjuG",
    "outputId": "9a6c88c8-35e6-4c89-de4a-9de385ebb490"
   },
   "outputs": [
    {
     "data": {
      "text/plain": [
       "(14999, 10)"
      ]
     },
     "execution_count": 25,
     "metadata": {},
     "output_type": "execute_result"
    }
   ],
   "source": [
    "df.shape"
   ]
  },
  {
   "cell_type": "code",
   "execution_count": 26,
   "metadata": {
    "ExecuteTime": {
     "end_time": "2022-11-03T19:12:02.352328Z",
     "start_time": "2022-11-03T19:12:02.337324Z"
    },
    "colab": {
     "base_uri": "https://localhost:8080/"
    },
    "id": "VJVft7c1Pi7e",
    "outputId": "d906b5ff-09c6-45c6-d6e0-c433030dd9f6"
   },
   "outputs": [
    {
     "name": "stdout",
     "output_type": "stream",
     "text": [
      "<class 'pandas.core.frame.DataFrame'>\n",
      "RangeIndex: 14999 entries, 0 to 14998\n",
      "Data columns (total 10 columns):\n",
      " #   Column                 Non-Null Count  Dtype  \n",
      "---  ------                 --------------  -----  \n",
      " 0   satisfaction_level     14999 non-null  float64\n",
      " 1   last_evaluation        14999 non-null  float64\n",
      " 2   number_project         14999 non-null  int64  \n",
      " 3   average_montly_hours   14999 non-null  int64  \n",
      " 4   time_spend_company     14999 non-null  int64  \n",
      " 5   work_accident          14999 non-null  int64  \n",
      " 6   left                   14999 non-null  int64  \n",
      " 7   promotion_last_5years  14999 non-null  int64  \n",
      " 8   departments            14999 non-null  object \n",
      " 9   salary                 14999 non-null  object \n",
      "dtypes: float64(2), int64(6), object(2)\n",
      "memory usage: 1.1+ MB\n"
     ]
    }
   ],
   "source": [
    "df.info()"
   ]
  },
  {
   "cell_type": "code",
   "execution_count": 27,
   "metadata": {
    "ExecuteTime": {
     "end_time": "2022-11-03T19:12:02.368331Z",
     "start_time": "2022-11-03T19:12:02.353328Z"
    },
    "colab": {
     "base_uri": "https://localhost:8080/"
    },
    "id": "whr_iLZERuSK",
    "outputId": "a79deb68-8b35-4c5e-c561-85c4125a07a3"
   },
   "outputs": [
    {
     "data": {
      "text/plain": [
       "satisfaction_level       0\n",
       "last_evaluation          0\n",
       "number_project           0\n",
       "average_montly_hours     0\n",
       "time_spend_company       0\n",
       "work_accident            0\n",
       "left                     0\n",
       "promotion_last_5years    0\n",
       "departments              0\n",
       "salary                   0\n",
       "dtype: int64"
      ]
     },
     "execution_count": 27,
     "metadata": {},
     "output_type": "execute_result"
    }
   ],
   "source": [
    "df.isnull().sum()"
   ]
  },
  {
   "cell_type": "code",
   "execution_count": 28,
   "metadata": {
    "ExecuteTime": {
     "end_time": "2022-11-03T19:12:02.384334Z",
     "start_time": "2022-11-03T19:12:02.374332Z"
    },
    "colab": {
     "base_uri": "https://localhost:8080/"
    },
    "id": "3Ky-g_fXT4Dp",
    "outputId": "f9d60aab-c6c1-4bd4-a989-1db18484019d"
   },
   "outputs": [
    {
     "data": {
      "text/plain": [
       "satisfaction_level        92\n",
       "last_evaluation           65\n",
       "number_project             6\n",
       "average_montly_hours     215\n",
       "time_spend_company         8\n",
       "work_accident              2\n",
       "left                       2\n",
       "promotion_last_5years      2\n",
       "departments               10\n",
       "salary                     3\n",
       "dtype: int64"
      ]
     },
     "execution_count": 28,
     "metadata": {},
     "output_type": "execute_result"
    }
   ],
   "source": [
    "df.nunique()"
   ]
  },
  {
   "cell_type": "code",
   "execution_count": 29,
   "metadata": {
    "ExecuteTime": {
     "end_time": "2022-11-03T19:12:02.399339Z",
     "start_time": "2022-11-03T19:12:02.385335Z"
    },
    "colab": {
     "base_uri": "https://localhost:8080/"
    },
    "id": "w6IAjSX4OUoR",
    "outputId": "f89d054e-7131-475b-cdc5-cb8a17825b8c"
   },
   "outputs": [
    {
     "data": {
      "text/plain": [
       "3008"
      ]
     },
     "execution_count": 29,
     "metadata": {},
     "output_type": "execute_result"
    }
   ],
   "source": [
    "df.duplicated().sum()"
   ]
  },
  {
   "cell_type": "code",
   "execution_count": 30,
   "metadata": {
    "ExecuteTime": {
     "end_time": "2022-11-03T19:12:02.414341Z",
     "start_time": "2022-11-03T19:12:02.400338Z"
    },
    "id": "9acXsmnxXsJX"
   },
   "outputs": [],
   "source": [
    "df=df.drop_duplicates()"
   ]
  },
  {
   "cell_type": "code",
   "execution_count": 31,
   "metadata": {
    "ExecuteTime": {
     "end_time": "2022-11-03T19:12:02.430345Z",
     "start_time": "2022-11-03T19:12:02.415342Z"
    },
    "colab": {
     "base_uri": "https://localhost:8080/"
    },
    "id": "m1NZJLv6gXEI",
    "outputId": "ae28bd9c-dd31-4df7-bb54-fe396a03ff5a"
   },
   "outputs": [
    {
     "data": {
      "text/plain": [
       "0"
      ]
     },
     "execution_count": 31,
     "metadata": {},
     "output_type": "execute_result"
    }
   ],
   "source": [
    "df.duplicated().sum()"
   ]
  },
  {
   "cell_type": "code",
   "execution_count": 32,
   "metadata": {
    "ExecuteTime": {
     "end_time": "2022-11-03T19:12:02.446349Z",
     "start_time": "2022-11-03T19:12:02.431345Z"
    },
    "colab": {
     "base_uri": "https://localhost:8080/"
    },
    "id": "FHCvkiH-YDvi",
    "outputId": "181cd710-0ce3-47b9-e8da-5a63f41e23da"
   },
   "outputs": [
    {
     "data": {
      "text/plain": [
       "(11991, 10)"
      ]
     },
     "execution_count": 32,
     "metadata": {},
     "output_type": "execute_result"
    }
   ],
   "source": [
    "df.shape"
   ]
  },
  {
   "cell_type": "code",
   "execution_count": 33,
   "metadata": {
    "ExecuteTime": {
     "end_time": "2022-11-03T19:12:02.509364Z",
     "start_time": "2022-11-03T19:12:02.448350Z"
    }
   },
   "outputs": [
    {
     "data": {
      "text/html": [
       "<style type=\"text/css\">\n",
       "#T_94dda_row0_col0, #T_94dda_row1_col0, #T_94dda_row2_col0, #T_94dda_row3_col0, #T_94dda_row4_col0, #T_94dda_row5_col0, #T_94dda_row6_col0, #T_94dda_row7_col0 {\n",
       "  background-color: #006837;\n",
       "  color: #f1f1f1;\n",
       "}\n",
       "#T_94dda_row0_col1, #T_94dda_row0_col2, #T_94dda_row0_col3, #T_94dda_row0_col4, #T_94dda_row0_col5, #T_94dda_row0_col6, #T_94dda_row0_col7, #T_94dda_row1_col1, #T_94dda_row1_col2, #T_94dda_row1_col3, #T_94dda_row1_col4, #T_94dda_row1_col5, #T_94dda_row1_col6, #T_94dda_row1_col7, #T_94dda_row2_col1, #T_94dda_row2_col2, #T_94dda_row2_col3, #T_94dda_row2_col4, #T_94dda_row2_col5, #T_94dda_row2_col6, #T_94dda_row2_col7, #T_94dda_row3_col2, #T_94dda_row4_col1, #T_94dda_row4_col2, #T_94dda_row4_col3, #T_94dda_row4_col4, #T_94dda_row4_col5, #T_94dda_row4_col6, #T_94dda_row4_col7, #T_94dda_row5_col1, #T_94dda_row5_col2, #T_94dda_row5_col3, #T_94dda_row5_col4, #T_94dda_row5_col5, #T_94dda_row5_col6, #T_94dda_row5_col7, #T_94dda_row6_col1, #T_94dda_row6_col2, #T_94dda_row6_col3, #T_94dda_row6_col4, #T_94dda_row6_col5, #T_94dda_row6_col6, #T_94dda_row6_col7, #T_94dda_row7_col1, #T_94dda_row7_col2, #T_94dda_row7_col3, #T_94dda_row7_col4, #T_94dda_row7_col5, #T_94dda_row7_col6, #T_94dda_row7_col7 {\n",
       "  background-color: #a50026;\n",
       "  color: #f1f1f1;\n",
       "}\n",
       "#T_94dda_row3_col1, #T_94dda_row3_col5 {\n",
       "  background-color: #ab0626;\n",
       "  color: #f1f1f1;\n",
       "}\n",
       "#T_94dda_row3_col3 {\n",
       "  background-color: #a70226;\n",
       "  color: #f1f1f1;\n",
       "}\n",
       "#T_94dda_row3_col4 {\n",
       "  background-color: #a90426;\n",
       "  color: #f1f1f1;\n",
       "}\n",
       "#T_94dda_row3_col6 {\n",
       "  background-color: #ad0826;\n",
       "  color: #f1f1f1;\n",
       "}\n",
       "#T_94dda_row3_col7 {\n",
       "  background-color: #af0926;\n",
       "  color: #f1f1f1;\n",
       "}\n",
       "</style>\n",
       "<table id=\"T_94dda\">\n",
       "  <thead>\n",
       "    <tr>\n",
       "      <th class=\"blank level0\" >&nbsp;</th>\n",
       "      <th id=\"T_94dda_level0_col0\" class=\"col_heading level0 col0\" >count</th>\n",
       "      <th id=\"T_94dda_level0_col1\" class=\"col_heading level0 col1\" >mean</th>\n",
       "      <th id=\"T_94dda_level0_col2\" class=\"col_heading level0 col2\" >std</th>\n",
       "      <th id=\"T_94dda_level0_col3\" class=\"col_heading level0 col3\" >min</th>\n",
       "      <th id=\"T_94dda_level0_col4\" class=\"col_heading level0 col4\" >25%</th>\n",
       "      <th id=\"T_94dda_level0_col5\" class=\"col_heading level0 col5\" >50%</th>\n",
       "      <th id=\"T_94dda_level0_col6\" class=\"col_heading level0 col6\" >75%</th>\n",
       "      <th id=\"T_94dda_level0_col7\" class=\"col_heading level0 col7\" >max</th>\n",
       "    </tr>\n",
       "  </thead>\n",
       "  <tbody>\n",
       "    <tr>\n",
       "      <th id=\"T_94dda_level0_row0\" class=\"row_heading level0 row0\" >satisfaction_level</th>\n",
       "      <td id=\"T_94dda_row0_col0\" class=\"data row0 col0\" >11991.000000</td>\n",
       "      <td id=\"T_94dda_row0_col1\" class=\"data row0 col1\" >0.629658</td>\n",
       "      <td id=\"T_94dda_row0_col2\" class=\"data row0 col2\" >0.241070</td>\n",
       "      <td id=\"T_94dda_row0_col3\" class=\"data row0 col3\" >0.090000</td>\n",
       "      <td id=\"T_94dda_row0_col4\" class=\"data row0 col4\" >0.480000</td>\n",
       "      <td id=\"T_94dda_row0_col5\" class=\"data row0 col5\" >0.660000</td>\n",
       "      <td id=\"T_94dda_row0_col6\" class=\"data row0 col6\" >0.820000</td>\n",
       "      <td id=\"T_94dda_row0_col7\" class=\"data row0 col7\" >1.000000</td>\n",
       "    </tr>\n",
       "    <tr>\n",
       "      <th id=\"T_94dda_level0_row1\" class=\"row_heading level0 row1\" >last_evaluation</th>\n",
       "      <td id=\"T_94dda_row1_col0\" class=\"data row1 col0\" >11991.000000</td>\n",
       "      <td id=\"T_94dda_row1_col1\" class=\"data row1 col1\" >0.716683</td>\n",
       "      <td id=\"T_94dda_row1_col2\" class=\"data row1 col2\" >0.168343</td>\n",
       "      <td id=\"T_94dda_row1_col3\" class=\"data row1 col3\" >0.360000</td>\n",
       "      <td id=\"T_94dda_row1_col4\" class=\"data row1 col4\" >0.570000</td>\n",
       "      <td id=\"T_94dda_row1_col5\" class=\"data row1 col5\" >0.720000</td>\n",
       "      <td id=\"T_94dda_row1_col6\" class=\"data row1 col6\" >0.860000</td>\n",
       "      <td id=\"T_94dda_row1_col7\" class=\"data row1 col7\" >1.000000</td>\n",
       "    </tr>\n",
       "    <tr>\n",
       "      <th id=\"T_94dda_level0_row2\" class=\"row_heading level0 row2\" >number_project</th>\n",
       "      <td id=\"T_94dda_row2_col0\" class=\"data row2 col0\" >11991.000000</td>\n",
       "      <td id=\"T_94dda_row2_col1\" class=\"data row2 col1\" >3.802852</td>\n",
       "      <td id=\"T_94dda_row2_col2\" class=\"data row2 col2\" >1.163238</td>\n",
       "      <td id=\"T_94dda_row2_col3\" class=\"data row2 col3\" >2.000000</td>\n",
       "      <td id=\"T_94dda_row2_col4\" class=\"data row2 col4\" >3.000000</td>\n",
       "      <td id=\"T_94dda_row2_col5\" class=\"data row2 col5\" >4.000000</td>\n",
       "      <td id=\"T_94dda_row2_col6\" class=\"data row2 col6\" >5.000000</td>\n",
       "      <td id=\"T_94dda_row2_col7\" class=\"data row2 col7\" >7.000000</td>\n",
       "    </tr>\n",
       "    <tr>\n",
       "      <th id=\"T_94dda_level0_row3\" class=\"row_heading level0 row3\" >average_montly_hours</th>\n",
       "      <td id=\"T_94dda_row3_col0\" class=\"data row3 col0\" >11991.000000</td>\n",
       "      <td id=\"T_94dda_row3_col1\" class=\"data row3 col1\" >200.473522</td>\n",
       "      <td id=\"T_94dda_row3_col2\" class=\"data row3 col2\" >48.727813</td>\n",
       "      <td id=\"T_94dda_row3_col3\" class=\"data row3 col3\" >96.000000</td>\n",
       "      <td id=\"T_94dda_row3_col4\" class=\"data row3 col4\" >157.000000</td>\n",
       "      <td id=\"T_94dda_row3_col5\" class=\"data row3 col5\" >200.000000</td>\n",
       "      <td id=\"T_94dda_row3_col6\" class=\"data row3 col6\" >243.000000</td>\n",
       "      <td id=\"T_94dda_row3_col7\" class=\"data row3 col7\" >310.000000</td>\n",
       "    </tr>\n",
       "    <tr>\n",
       "      <th id=\"T_94dda_level0_row4\" class=\"row_heading level0 row4\" >time_spend_company</th>\n",
       "      <td id=\"T_94dda_row4_col0\" class=\"data row4 col0\" >11991.000000</td>\n",
       "      <td id=\"T_94dda_row4_col1\" class=\"data row4 col1\" >3.364857</td>\n",
       "      <td id=\"T_94dda_row4_col2\" class=\"data row4 col2\" >1.330240</td>\n",
       "      <td id=\"T_94dda_row4_col3\" class=\"data row4 col3\" >2.000000</td>\n",
       "      <td id=\"T_94dda_row4_col4\" class=\"data row4 col4\" >3.000000</td>\n",
       "      <td id=\"T_94dda_row4_col5\" class=\"data row4 col5\" >3.000000</td>\n",
       "      <td id=\"T_94dda_row4_col6\" class=\"data row4 col6\" >4.000000</td>\n",
       "      <td id=\"T_94dda_row4_col7\" class=\"data row4 col7\" >10.000000</td>\n",
       "    </tr>\n",
       "    <tr>\n",
       "      <th id=\"T_94dda_level0_row5\" class=\"row_heading level0 row5\" >work_accident</th>\n",
       "      <td id=\"T_94dda_row5_col0\" class=\"data row5 col0\" >11991.000000</td>\n",
       "      <td id=\"T_94dda_row5_col1\" class=\"data row5 col1\" >0.154282</td>\n",
       "      <td id=\"T_94dda_row5_col2\" class=\"data row5 col2\" >0.361234</td>\n",
       "      <td id=\"T_94dda_row5_col3\" class=\"data row5 col3\" >0.000000</td>\n",
       "      <td id=\"T_94dda_row5_col4\" class=\"data row5 col4\" >0.000000</td>\n",
       "      <td id=\"T_94dda_row5_col5\" class=\"data row5 col5\" >0.000000</td>\n",
       "      <td id=\"T_94dda_row5_col6\" class=\"data row5 col6\" >0.000000</td>\n",
       "      <td id=\"T_94dda_row5_col7\" class=\"data row5 col7\" >1.000000</td>\n",
       "    </tr>\n",
       "    <tr>\n",
       "      <th id=\"T_94dda_level0_row6\" class=\"row_heading level0 row6\" >left</th>\n",
       "      <td id=\"T_94dda_row6_col0\" class=\"data row6 col0\" >11991.000000</td>\n",
       "      <td id=\"T_94dda_row6_col1\" class=\"data row6 col1\" >0.166041</td>\n",
       "      <td id=\"T_94dda_row6_col2\" class=\"data row6 col2\" >0.372133</td>\n",
       "      <td id=\"T_94dda_row6_col3\" class=\"data row6 col3\" >0.000000</td>\n",
       "      <td id=\"T_94dda_row6_col4\" class=\"data row6 col4\" >0.000000</td>\n",
       "      <td id=\"T_94dda_row6_col5\" class=\"data row6 col5\" >0.000000</td>\n",
       "      <td id=\"T_94dda_row6_col6\" class=\"data row6 col6\" >0.000000</td>\n",
       "      <td id=\"T_94dda_row6_col7\" class=\"data row6 col7\" >1.000000</td>\n",
       "    </tr>\n",
       "    <tr>\n",
       "      <th id=\"T_94dda_level0_row7\" class=\"row_heading level0 row7\" >promotion_last_5years</th>\n",
       "      <td id=\"T_94dda_row7_col0\" class=\"data row7 col0\" >11991.000000</td>\n",
       "      <td id=\"T_94dda_row7_col1\" class=\"data row7 col1\" >0.016929</td>\n",
       "      <td id=\"T_94dda_row7_col2\" class=\"data row7 col2\" >0.129012</td>\n",
       "      <td id=\"T_94dda_row7_col3\" class=\"data row7 col3\" >0.000000</td>\n",
       "      <td id=\"T_94dda_row7_col4\" class=\"data row7 col4\" >0.000000</td>\n",
       "      <td id=\"T_94dda_row7_col5\" class=\"data row7 col5\" >0.000000</td>\n",
       "      <td id=\"T_94dda_row7_col6\" class=\"data row7 col6\" >0.000000</td>\n",
       "      <td id=\"T_94dda_row7_col7\" class=\"data row7 col7\" >1.000000</td>\n",
       "    </tr>\n",
       "  </tbody>\n",
       "</table>\n"
      ],
      "text/plain": [
       "<pandas.io.formats.style.Styler at 0x282560e1910>"
      ]
     },
     "execution_count": 33,
     "metadata": {},
     "output_type": "execute_result"
    }
   ],
   "source": [
    "df.describe().T.style.background_gradient(cmap='RdYlGn', axis=1)"
   ]
  },
  {
   "cell_type": "code",
   "execution_count": 34,
   "metadata": {
    "ExecuteTime": {
     "end_time": "2022-11-03T19:12:02.524366Z",
     "start_time": "2022-11-03T19:12:02.510363Z"
    },
    "colab": {
     "base_uri": "https://localhost:8080/",
     "height": 364
    },
    "id": "9MV74-hOeqWQ",
    "outputId": "7249017c-cee0-48bc-fae1-e6209981d073"
   },
   "outputs": [
    {
     "data": {
      "text/html": [
       "<div>\n",
       "<style scoped>\n",
       "    .dataframe tbody tr th:only-of-type {\n",
       "        vertical-align: middle;\n",
       "    }\n",
       "\n",
       "    .dataframe tbody tr th {\n",
       "        vertical-align: top;\n",
       "    }\n",
       "\n",
       "    .dataframe thead th {\n",
       "        text-align: right;\n",
       "    }\n",
       "</style>\n",
       "<table border=\"1\" class=\"dataframe\">\n",
       "  <thead>\n",
       "    <tr style=\"text-align: right;\">\n",
       "      <th></th>\n",
       "      <th>count</th>\n",
       "      <th>unique</th>\n",
       "      <th>top</th>\n",
       "      <th>freq</th>\n",
       "    </tr>\n",
       "  </thead>\n",
       "  <tbody>\n",
       "    <tr>\n",
       "      <th>departments</th>\n",
       "      <td>11991</td>\n",
       "      <td>10</td>\n",
       "      <td>sales</td>\n",
       "      <td>3239</td>\n",
       "    </tr>\n",
       "    <tr>\n",
       "      <th>salary</th>\n",
       "      <td>11991</td>\n",
       "      <td>3</td>\n",
       "      <td>low</td>\n",
       "      <td>5740</td>\n",
       "    </tr>\n",
       "  </tbody>\n",
       "</table>\n",
       "</div>"
      ],
      "text/plain": [
       "             count unique    top  freq\n",
       "departments  11991     10  sales  3239\n",
       "salary       11991      3    low  5740"
      ]
     },
     "execution_count": 34,
     "metadata": {},
     "output_type": "execute_result"
    }
   ],
   "source": [
    "df.describe(include='O').T"
   ]
  },
  {
   "cell_type": "code",
   "execution_count": 35,
   "metadata": {
    "ExecuteTime": {
     "end_time": "2022-11-03T19:12:02.555373Z",
     "start_time": "2022-11-03T19:12:02.525368Z"
    }
   },
   "outputs": [],
   "source": [
    "num_cols = df.describe().columns"
   ]
  },
  {
   "cell_type": "markdown",
   "metadata": {
    "id": "wc8t0m9u2sl2"
   },
   "source": [
    "### Data Insights\n",
    "\n",
    "In the given dataset, you have two types of employee one who stayed and another who left the company. So, you can divide data into two groups and compare their characteristics. Moreover, you can find the average of both the groups using groupby() and mean() function."
   ]
  },
  {
   "cell_type": "markdown",
   "metadata": {
    "id": "A0qWIPPDCsv6"
   },
   "source": [
    "left column is our target columns, so it should be seperated from the dataset"
   ]
  },
  {
   "cell_type": "code",
   "execution_count": 36,
   "metadata": {
    "ExecuteTime": {
     "end_time": "2022-11-03T19:12:02.570377Z",
     "start_time": "2022-11-03T19:12:02.557375Z"
    },
    "cell_style": "split",
    "colab": {
     "base_uri": "https://localhost:8080/",
     "height": 143
    },
    "id": "fCl-TcdbUpi4",
    "outputId": "4b4611f7-7baf-49bc-d9df-5454bd841c1b",
    "scrolled": true
   },
   "outputs": [
    {
     "data": {
      "text/html": [
       "<div>\n",
       "<style scoped>\n",
       "    .dataframe tbody tr th:only-of-type {\n",
       "        vertical-align: middle;\n",
       "    }\n",
       "\n",
       "    .dataframe tbody tr th {\n",
       "        vertical-align: top;\n",
       "    }\n",
       "\n",
       "    .dataframe thead th {\n",
       "        text-align: right;\n",
       "    }\n",
       "</style>\n",
       "<table border=\"1\" class=\"dataframe\">\n",
       "  <thead>\n",
       "    <tr style=\"text-align: right;\">\n",
       "      <th>left</th>\n",
       "      <th>0</th>\n",
       "      <th>1</th>\n",
       "    </tr>\n",
       "  </thead>\n",
       "  <tbody>\n",
       "    <tr>\n",
       "      <th>satisfaction_level</th>\n",
       "      <td>0.667</td>\n",
       "      <td>0.440</td>\n",
       "    </tr>\n",
       "    <tr>\n",
       "      <th>last_evaluation</th>\n",
       "      <td>0.716</td>\n",
       "      <td>0.722</td>\n",
       "    </tr>\n",
       "    <tr>\n",
       "      <th>number_project</th>\n",
       "      <td>3.787</td>\n",
       "      <td>3.883</td>\n",
       "    </tr>\n",
       "    <tr>\n",
       "      <th>average_montly_hours</th>\n",
       "      <td>198.943</td>\n",
       "      <td>208.162</td>\n",
       "    </tr>\n",
       "    <tr>\n",
       "      <th>time_spend_company</th>\n",
       "      <td>3.262</td>\n",
       "      <td>3.881</td>\n",
       "    </tr>\n",
       "    <tr>\n",
       "      <th>work_accident</th>\n",
       "      <td>0.174</td>\n",
       "      <td>0.053</td>\n",
       "    </tr>\n",
       "    <tr>\n",
       "      <th>promotion_last_5years</th>\n",
       "      <td>0.019</td>\n",
       "      <td>0.004</td>\n",
       "    </tr>\n",
       "  </tbody>\n",
       "</table>\n",
       "</div>"
      ],
      "text/plain": [
       "left                        0       1\n",
       "satisfaction_level      0.667   0.440\n",
       "last_evaluation         0.716   0.722\n",
       "number_project          3.787   3.883\n",
       "average_montly_hours  198.943 208.162\n",
       "time_spend_company      3.262   3.881\n",
       "work_accident           0.174   0.053\n",
       "promotion_last_5years   0.019   0.004"
      ]
     },
     "execution_count": 36,
     "metadata": {},
     "output_type": "execute_result"
    }
   ],
   "source": [
    "df.groupby('left').mean().T"
   ]
  },
  {
   "cell_type": "code",
   "execution_count": 37,
   "metadata": {
    "ExecuteTime": {
     "end_time": "2022-11-03T19:12:02.586380Z",
     "start_time": "2022-11-03T19:12:02.571378Z"
    },
    "cell_style": "split"
   },
   "outputs": [
    {
     "data": {
      "text/plain": [
       "0    10000\n",
       "1     1991\n",
       "Name: left, dtype: int64"
      ]
     },
     "execution_count": 37,
     "metadata": {},
     "output_type": "execute_result"
    }
   ],
   "source": [
    "df.left.value_counts()"
   ]
  },
  {
   "cell_type": "code",
   "execution_count": 38,
   "metadata": {
    "ExecuteTime": {
     "end_time": "2022-11-03T19:12:02.602384Z",
     "start_time": "2022-11-03T19:12:02.587381Z"
    },
    "cell_style": "split"
   },
   "outputs": [
    {
     "data": {
      "text/plain": [
       "0   0.834\n",
       "1   0.166\n",
       "Name: left, dtype: float64"
      ]
     },
     "execution_count": 38,
     "metadata": {},
     "output_type": "execute_result"
    }
   ],
   "source": [
    " df.left.value_counts(normalize=True) "
   ]
  },
  {
   "cell_type": "code",
   "execution_count": 39,
   "metadata": {
    "ExecuteTime": {
     "end_time": "2022-11-03T19:12:02.618387Z",
     "start_time": "2022-11-03T19:12:02.603385Z"
    }
   },
   "outputs": [
    {
     "data": {
      "text/plain": [
       "count   11991.000\n",
       "mean        0.166\n",
       "std         0.372\n",
       "min         0.000\n",
       "25%         0.000\n",
       "50%         0.000\n",
       "75%         0.000\n",
       "max         1.000\n",
       "Name: left, dtype: float64"
      ]
     },
     "execution_count": 39,
     "metadata": {},
     "output_type": "execute_result"
    }
   ],
   "source": [
    "df.left.describe()"
   ]
  },
  {
   "cell_type": "code",
   "execution_count": 40,
   "metadata": {
    "ExecuteTime": {
     "end_time": "2022-11-03T19:12:02.634391Z",
     "start_time": "2022-11-03T19:12:02.619388Z"
    },
    "id": "tFmqZhsOKPXJ"
   },
   "outputs": [],
   "source": [
    "from colorama import Fore, Back, Style\n",
    "\n",
    "def first_look(df, col):\n",
    "    \"\"\"give only column name as \"col_name\" not as df[\"col_name\"]\"\"\"\n",
    "    print(Back.BLACK + Fore.YELLOW, \"Column name    : \", col, Style.RESET_ALL)\n",
    "    print(Fore.RED + \"--------------------------------\", Style.RESET_ALL)\n",
    "    print(\"Percent of null values   :\", \"%\", round(df[col].isnull().sum()*100 / df.shape[0], 2))\n",
    "    print(\"Number of null values    :\", df[col].isnull().sum())\n",
    "    print(\"Number of unique values  :\", df[col].nunique())\n",
    "    print(Fore.RED + \"--------------------------------\", Style.RESET_ALL)\n",
    "    print(\"Descriptive statistics\")\n",
    "    print(df[col].describe())\n",
    "    print()\n",
    "    print()"
   ]
  },
  {
   "cell_type": "code",
   "execution_count": 41,
   "metadata": {
    "ExecuteTime": {
     "end_time": "2022-11-03T19:12:02.650395Z",
     "start_time": "2022-11-03T19:12:02.635392Z"
    }
   },
   "outputs": [],
   "source": [
    "num_cols = df.describe().columns"
   ]
  },
  {
   "cell_type": "code",
   "execution_count": 42,
   "metadata": {
    "ExecuteTime": {
     "end_time": "2022-11-03T19:12:02.682402Z",
     "start_time": "2022-11-03T19:12:02.651395Z"
    },
    "colab": {
     "base_uri": "https://localhost:8080/"
    },
    "id": "e-_y_g-nKba6",
    "outputId": "c3cc0043-d6b6-4361-e9cf-02deb5dd88d1",
    "scrolled": false
   },
   "outputs": [
    {
     "name": "stdout",
     "output_type": "stream",
     "text": [
      "\u001b[40m\u001b[33m Column name    :  satisfaction_level \u001b[0m\n",
      "\u001b[31m-------------------------------- \u001b[0m\n",
      "Percent of null values   : % 0.0\n",
      "Number of null values    : 0\n",
      "Number of unique values  : 92\n",
      "\u001b[31m-------------------------------- \u001b[0m\n",
      "Descriptive statistics\n",
      "count   11991.000\n",
      "mean        0.630\n",
      "std         0.241\n",
      "min         0.090\n",
      "25%         0.480\n",
      "50%         0.660\n",
      "75%         0.820\n",
      "max         1.000\n",
      "Name: satisfaction_level, dtype: float64\n",
      "\n",
      "\n",
      "\u001b[40m\u001b[33m Column name    :  last_evaluation \u001b[0m\n",
      "\u001b[31m-------------------------------- \u001b[0m\n",
      "Percent of null values   : % 0.0\n",
      "Number of null values    : 0\n",
      "Number of unique values  : 65\n",
      "\u001b[31m-------------------------------- \u001b[0m\n",
      "Descriptive statistics\n",
      "count   11991.000\n",
      "mean        0.717\n",
      "std         0.168\n",
      "min         0.360\n",
      "25%         0.570\n",
      "50%         0.720\n",
      "75%         0.860\n",
      "max         1.000\n",
      "Name: last_evaluation, dtype: float64\n",
      "\n",
      "\n",
      "\u001b[40m\u001b[33m Column name    :  number_project \u001b[0m\n",
      "\u001b[31m-------------------------------- \u001b[0m\n",
      "Percent of null values   : % 0.0\n",
      "Number of null values    : 0\n",
      "Number of unique values  : 6\n",
      "\u001b[31m-------------------------------- \u001b[0m\n",
      "Descriptive statistics\n",
      "count   11991.000\n",
      "mean        3.803\n",
      "std         1.163\n",
      "min         2.000\n",
      "25%         3.000\n",
      "50%         4.000\n",
      "75%         5.000\n",
      "max         7.000\n",
      "Name: number_project, dtype: float64\n",
      "\n",
      "\n",
      "\u001b[40m\u001b[33m Column name    :  average_montly_hours \u001b[0m\n",
      "\u001b[31m-------------------------------- \u001b[0m\n",
      "Percent of null values   : % 0.0\n",
      "Number of null values    : 0\n",
      "Number of unique values  : 215\n",
      "\u001b[31m-------------------------------- \u001b[0m\n",
      "Descriptive statistics\n",
      "count   11991.000\n",
      "mean      200.474\n",
      "std        48.728\n",
      "min        96.000\n",
      "25%       157.000\n",
      "50%       200.000\n",
      "75%       243.000\n",
      "max       310.000\n",
      "Name: average_montly_hours, dtype: float64\n",
      "\n",
      "\n",
      "\u001b[40m\u001b[33m Column name    :  time_spend_company \u001b[0m\n",
      "\u001b[31m-------------------------------- \u001b[0m\n",
      "Percent of null values   : % 0.0\n",
      "Number of null values    : 0\n",
      "Number of unique values  : 8\n",
      "\u001b[31m-------------------------------- \u001b[0m\n",
      "Descriptive statistics\n",
      "count   11991.000\n",
      "mean        3.365\n",
      "std         1.330\n",
      "min         2.000\n",
      "25%         3.000\n",
      "50%         3.000\n",
      "75%         4.000\n",
      "max        10.000\n",
      "Name: time_spend_company, dtype: float64\n",
      "\n",
      "\n",
      "\u001b[40m\u001b[33m Column name    :  work_accident \u001b[0m\n",
      "\u001b[31m-------------------------------- \u001b[0m\n",
      "Percent of null values   : % 0.0\n",
      "Number of null values    : 0\n",
      "Number of unique values  : 2\n",
      "\u001b[31m-------------------------------- \u001b[0m\n",
      "Descriptive statistics\n",
      "count   11991.000\n",
      "mean        0.154\n",
      "std         0.361\n",
      "min         0.000\n",
      "25%         0.000\n",
      "50%         0.000\n",
      "75%         0.000\n",
      "max         1.000\n",
      "Name: work_accident, dtype: float64\n",
      "\n",
      "\n",
      "\u001b[40m\u001b[33m Column name    :  left \u001b[0m\n",
      "\u001b[31m-------------------------------- \u001b[0m\n",
      "Percent of null values   : % 0.0\n",
      "Number of null values    : 0\n",
      "Number of unique values  : 2\n",
      "\u001b[31m-------------------------------- \u001b[0m\n",
      "Descriptive statistics\n",
      "count   11991.000\n",
      "mean        0.166\n",
      "std         0.372\n",
      "min         0.000\n",
      "25%         0.000\n",
      "50%         0.000\n",
      "75%         0.000\n",
      "max         1.000\n",
      "Name: left, dtype: float64\n",
      "\n",
      "\n",
      "\u001b[40m\u001b[33m Column name    :  promotion_last_5years \u001b[0m\n",
      "\u001b[31m-------------------------------- \u001b[0m\n",
      "Percent of null values   : % 0.0\n",
      "Number of null values    : 0\n",
      "Number of unique values  : 2\n",
      "\u001b[31m-------------------------------- \u001b[0m\n",
      "Descriptive statistics\n",
      "count   11991.000\n",
      "mean        0.017\n",
      "std         0.129\n",
      "min         0.000\n",
      "25%         0.000\n",
      "50%         0.000\n",
      "75%         0.000\n",
      "max         1.000\n",
      "Name: promotion_last_5years, dtype: float64\n",
      "\n",
      "\n",
      "\u001b[40m\u001b[33m Column name    :  departments \u001b[0m\n",
      "\u001b[31m-------------------------------- \u001b[0m\n",
      "Percent of null values   : % 0.0\n",
      "Number of null values    : 0\n",
      "Number of unique values  : 10\n",
      "\u001b[31m-------------------------------- \u001b[0m\n",
      "Descriptive statistics\n",
      "count     11991\n",
      "unique       10\n",
      "top       sales\n",
      "freq       3239\n",
      "Name: departments, dtype: object\n",
      "\n",
      "\n",
      "\u001b[40m\u001b[33m Column name    :  salary \u001b[0m\n",
      "\u001b[31m-------------------------------- \u001b[0m\n",
      "Percent of null values   : % 0.0\n",
      "Number of null values    : 0\n",
      "Number of unique values  : 3\n",
      "\u001b[31m-------------------------------- \u001b[0m\n",
      "Descriptive statistics\n",
      "count     11991\n",
      "unique        3\n",
      "top         low\n",
      "freq       5740\n",
      "Name: salary, dtype: object\n",
      "\n",
      "\n"
     ]
    }
   ],
   "source": [
    "for i in df.columns:\n",
    "    first_look(df, i)"
   ]
  },
  {
   "cell_type": "code",
   "execution_count": 43,
   "metadata": {
    "ExecuteTime": {
     "end_time": "2022-11-03T19:12:02.698405Z",
     "start_time": "2022-11-03T19:12:02.683403Z"
    },
    "colab": {
     "base_uri": "https://localhost:8080/"
    },
    "id": "uDA4HCyh9Qaw",
    "outputId": "70c8e482-5374-48bb-d9f4-f1f1cd41c1bf"
   },
   "outputs": [
    {
     "data": {
      "text/plain": [
       "Index(['satisfaction_level', 'last_evaluation', 'number_project',\n",
       "       'average_montly_hours', 'time_spend_company', 'work_accident', 'left',\n",
       "       'promotion_last_5years', 'departments', 'salary'],\n",
       "      dtype='object')"
      ]
     },
     "execution_count": 43,
     "metadata": {},
     "output_type": "execute_result"
    }
   ],
   "source": [
    "df.columns"
   ]
  },
  {
   "cell_type": "code",
   "execution_count": 44,
   "metadata": {
    "ExecuteTime": {
     "end_time": "2022-11-03T19:12:02.729413Z",
     "start_time": "2022-11-03T19:12:02.699408Z"
    },
    "colab": {
     "base_uri": "https://localhost:8080/",
     "height": 364
    },
    "id": "vlqYfFG-MnEB",
    "outputId": "e9adf3b7-d818-4e08-c92c-1b04ffe6e17e"
   },
   "outputs": [
    {
     "data": {
      "text/html": [
       "<div>\n",
       "<style scoped>\n",
       "    .dataframe tbody tr th:only-of-type {\n",
       "        vertical-align: middle;\n",
       "    }\n",
       "\n",
       "    .dataframe tbody tr th {\n",
       "        vertical-align: top;\n",
       "    }\n",
       "\n",
       "    .dataframe thead th {\n",
       "        text-align: right;\n",
       "    }\n",
       "</style>\n",
       "<table border=\"1\" class=\"dataframe\">\n",
       "  <thead>\n",
       "    <tr style=\"text-align: right;\">\n",
       "      <th></th>\n",
       "      <th>satisfaction_level</th>\n",
       "      <th>last_evaluation</th>\n",
       "      <th>number_project</th>\n",
       "      <th>average_montly_hours</th>\n",
       "      <th>time_spend_company</th>\n",
       "      <th>work_accident</th>\n",
       "      <th>left</th>\n",
       "      <th>promotion_last_5years</th>\n",
       "    </tr>\n",
       "  </thead>\n",
       "  <tbody>\n",
       "    <tr>\n",
       "      <th>count</th>\n",
       "      <td>10000.000</td>\n",
       "      <td>10000.000</td>\n",
       "      <td>10000.000</td>\n",
       "      <td>10000.000</td>\n",
       "      <td>10000.000</td>\n",
       "      <td>10000.000</td>\n",
       "      <td>10000.000</td>\n",
       "      <td>10000.000</td>\n",
       "    </tr>\n",
       "    <tr>\n",
       "      <th>mean</th>\n",
       "      <td>0.667</td>\n",
       "      <td>0.716</td>\n",
       "      <td>3.787</td>\n",
       "      <td>198.943</td>\n",
       "      <td>3.262</td>\n",
       "      <td>0.174</td>\n",
       "      <td>0.000</td>\n",
       "      <td>0.019</td>\n",
       "    </tr>\n",
       "    <tr>\n",
       "      <th>std</th>\n",
       "      <td>0.217</td>\n",
       "      <td>0.162</td>\n",
       "      <td>0.982</td>\n",
       "      <td>45.666</td>\n",
       "      <td>1.367</td>\n",
       "      <td>0.380</td>\n",
       "      <td>0.000</td>\n",
       "      <td>0.138</td>\n",
       "    </tr>\n",
       "    <tr>\n",
       "      <th>min</th>\n",
       "      <td>0.120</td>\n",
       "      <td>0.360</td>\n",
       "      <td>2.000</td>\n",
       "      <td>96.000</td>\n",
       "      <td>2.000</td>\n",
       "      <td>0.000</td>\n",
       "      <td>0.000</td>\n",
       "      <td>0.000</td>\n",
       "    </tr>\n",
       "    <tr>\n",
       "      <th>25%</th>\n",
       "      <td>0.540</td>\n",
       "      <td>0.580</td>\n",
       "      <td>3.000</td>\n",
       "      <td>162.000</td>\n",
       "      <td>2.000</td>\n",
       "      <td>0.000</td>\n",
       "      <td>0.000</td>\n",
       "      <td>0.000</td>\n",
       "    </tr>\n",
       "    <tr>\n",
       "      <th>50%</th>\n",
       "      <td>0.690</td>\n",
       "      <td>0.710</td>\n",
       "      <td>4.000</td>\n",
       "      <td>198.000</td>\n",
       "      <td>3.000</td>\n",
       "      <td>0.000</td>\n",
       "      <td>0.000</td>\n",
       "      <td>0.000</td>\n",
       "    </tr>\n",
       "    <tr>\n",
       "      <th>75%</th>\n",
       "      <td>0.840</td>\n",
       "      <td>0.850</td>\n",
       "      <td>4.000</td>\n",
       "      <td>238.000</td>\n",
       "      <td>4.000</td>\n",
       "      <td>0.000</td>\n",
       "      <td>0.000</td>\n",
       "      <td>0.000</td>\n",
       "    </tr>\n",
       "    <tr>\n",
       "      <th>max</th>\n",
       "      <td>1.000</td>\n",
       "      <td>1.000</td>\n",
       "      <td>6.000</td>\n",
       "      <td>287.000</td>\n",
       "      <td>10.000</td>\n",
       "      <td>1.000</td>\n",
       "      <td>0.000</td>\n",
       "      <td>1.000</td>\n",
       "    </tr>\n",
       "  </tbody>\n",
       "</table>\n",
       "</div>"
      ],
      "text/plain": [
       "       satisfaction_level  last_evaluation  number_project  \\\n",
       "count           10000.000        10000.000       10000.000   \n",
       "mean                0.667            0.716           3.787   \n",
       "std                 0.217            0.162           0.982   \n",
       "min                 0.120            0.360           2.000   \n",
       "25%                 0.540            0.580           3.000   \n",
       "50%                 0.690            0.710           4.000   \n",
       "75%                 0.840            0.850           4.000   \n",
       "max                 1.000            1.000           6.000   \n",
       "\n",
       "       average_montly_hours  time_spend_company  work_accident      left  \\\n",
       "count             10000.000           10000.000      10000.000 10000.000   \n",
       "mean                198.943               3.262          0.174     0.000   \n",
       "std                  45.666               1.367          0.380     0.000   \n",
       "min                  96.000               2.000          0.000     0.000   \n",
       "25%                 162.000               2.000          0.000     0.000   \n",
       "50%                 198.000               3.000          0.000     0.000   \n",
       "75%                 238.000               4.000          0.000     0.000   \n",
       "max                 287.000              10.000          1.000     0.000   \n",
       "\n",
       "       promotion_last_5years  \n",
       "count              10000.000  \n",
       "mean                   0.019  \n",
       "std                    0.138  \n",
       "min                    0.000  \n",
       "25%                    0.000  \n",
       "50%                    0.000  \n",
       "75%                    0.000  \n",
       "max                    1.000  "
      ]
     },
     "execution_count": 44,
     "metadata": {},
     "output_type": "execute_result"
    }
   ],
   "source": [
    "df[df['left'] == 0].describe()#did not leave the company"
   ]
  },
  {
   "cell_type": "code",
   "execution_count": 47,
   "metadata": {
    "ExecuteTime": {
     "end_time": "2022-11-03T19:12:57.229464Z",
     "start_time": "2022-11-03T19:12:57.219462Z"
    },
    "colab": {
     "base_uri": "https://localhost:8080/"
    },
    "id": "P3fnr7QzE0_z",
    "outputId": "b26d5047-5507-4869-d731-b51a43646ef1"
   },
   "outputs": [
    {
     "data": {
      "text/plain": [
       "Index(['satisfaction_level', 'last_evaluation', 'number_project',\n",
       "       'average_montly_hours', 'time_spend_company', 'work_accident', 'left',\n",
       "       'promotion_last_5years', 'departments', 'salary'],\n",
       "      dtype='object')"
      ]
     },
     "execution_count": 47,
     "metadata": {},
     "output_type": "execute_result"
    }
   ],
   "source": [
    "df.columns"
   ]
  },
  {
   "cell_type": "code",
   "execution_count": 48,
   "metadata": {
    "ExecuteTime": {
     "end_time": "2022-11-03T19:12:59.922693Z",
     "start_time": "2022-11-03T19:12:59.908690Z"
    },
    "cell_style": "split"
   },
   "outputs": [
    {
     "data": {
      "text/html": [
       "<div>\n",
       "<style scoped>\n",
       "    .dataframe tbody tr th:only-of-type {\n",
       "        vertical-align: middle;\n",
       "    }\n",
       "\n",
       "    .dataframe tbody tr th {\n",
       "        vertical-align: top;\n",
       "    }\n",
       "\n",
       "    .dataframe thead th {\n",
       "        text-align: right;\n",
       "    }\n",
       "</style>\n",
       "<table border=\"1\" class=\"dataframe\">\n",
       "  <thead>\n",
       "    <tr style=\"text-align: right;\">\n",
       "      <th>left</th>\n",
       "      <th>0</th>\n",
       "      <th>1</th>\n",
       "    </tr>\n",
       "    <tr>\n",
       "      <th>salary</th>\n",
       "      <th></th>\n",
       "      <th></th>\n",
       "    </tr>\n",
       "  </thead>\n",
       "  <tbody>\n",
       "    <tr>\n",
       "      <th>high</th>\n",
       "      <td>942</td>\n",
       "      <td>48</td>\n",
       "    </tr>\n",
       "    <tr>\n",
       "      <th>low</th>\n",
       "      <td>4566</td>\n",
       "      <td>1174</td>\n",
       "    </tr>\n",
       "    <tr>\n",
       "      <th>medium</th>\n",
       "      <td>4492</td>\n",
       "      <td>769</td>\n",
       "    </tr>\n",
       "  </tbody>\n",
       "</table>\n",
       "</div>"
      ],
      "text/plain": [
       "left       0     1\n",
       "salary            \n",
       "high     942    48\n",
       "low     4566  1174\n",
       "medium  4492   769"
      ]
     },
     "execution_count": 48,
     "metadata": {},
     "output_type": "execute_result"
    }
   ],
   "source": [
    "pd.crosstab(df['salary'], df['left'])"
   ]
  },
  {
   "cell_type": "code",
   "execution_count": 49,
   "metadata": {
    "ExecuteTime": {
     "end_time": "2022-11-03T19:13:00.889841Z",
     "start_time": "2022-11-03T19:13:00.868837Z"
    },
    "cell_style": "split",
    "colab": {
     "base_uri": "https://localhost:8080/",
     "height": 175
    },
    "id": "6qQURGZ3GC0T",
    "outputId": "8f2ac03d-9adc-4053-dfb2-e063b4544109"
   },
   "outputs": [
    {
     "data": {
      "text/html": [
       "<div>\n",
       "<style scoped>\n",
       "    .dataframe tbody tr th:only-of-type {\n",
       "        vertical-align: middle;\n",
       "    }\n",
       "\n",
       "    .dataframe tbody tr th {\n",
       "        vertical-align: top;\n",
       "    }\n",
       "\n",
       "    .dataframe thead th {\n",
       "        text-align: right;\n",
       "    }\n",
       "</style>\n",
       "<table border=\"1\" class=\"dataframe\">\n",
       "  <thead>\n",
       "    <tr style=\"text-align: right;\">\n",
       "      <th>left</th>\n",
       "      <th>0</th>\n",
       "      <th>1</th>\n",
       "    </tr>\n",
       "    <tr>\n",
       "      <th>salary</th>\n",
       "      <th></th>\n",
       "      <th></th>\n",
       "    </tr>\n",
       "  </thead>\n",
       "  <tbody>\n",
       "    <tr>\n",
       "      <th>high</th>\n",
       "      <td>0.952</td>\n",
       "      <td>0.048</td>\n",
       "    </tr>\n",
       "    <tr>\n",
       "      <th>low</th>\n",
       "      <td>0.795</td>\n",
       "      <td>0.205</td>\n",
       "    </tr>\n",
       "    <tr>\n",
       "      <th>medium</th>\n",
       "      <td>0.854</td>\n",
       "      <td>0.146</td>\n",
       "    </tr>\n",
       "  </tbody>\n",
       "</table>\n",
       "</div>"
      ],
      "text/plain": [
       "left       0     1\n",
       "salary            \n",
       "high   0.952 0.048\n",
       "low    0.795 0.205\n",
       "medium 0.854 0.146"
      ]
     },
     "execution_count": 49,
     "metadata": {},
     "output_type": "execute_result"
    }
   ],
   "source": [
    "pd.crosstab(df['salary'], df['left'],  normalize='index')"
   ]
  },
  {
   "cell_type": "code",
   "execution_count": 50,
   "metadata": {
    "ExecuteTime": {
     "end_time": "2022-11-03T19:13:06.262193Z",
     "start_time": "2022-11-03T19:13:06.236196Z"
    },
    "cell_style": "split",
    "colab": {
     "base_uri": "https://localhost:8080/",
     "height": 394
    },
    "id": "8tZHDO0OFumZ",
    "outputId": "a3bb8d98-b149-4800-a44d-19738d6c977d"
   },
   "outputs": [
    {
     "data": {
      "text/html": [
       "<div>\n",
       "<style scoped>\n",
       "    .dataframe tbody tr th:only-of-type {\n",
       "        vertical-align: middle;\n",
       "    }\n",
       "\n",
       "    .dataframe tbody tr th {\n",
       "        vertical-align: top;\n",
       "    }\n",
       "\n",
       "    .dataframe thead th {\n",
       "        text-align: right;\n",
       "    }\n",
       "</style>\n",
       "<table border=\"1\" class=\"dataframe\">\n",
       "  <thead>\n",
       "    <tr style=\"text-align: right;\">\n",
       "      <th>left</th>\n",
       "      <th>0</th>\n",
       "      <th>1</th>\n",
       "    </tr>\n",
       "    <tr>\n",
       "      <th>departments</th>\n",
       "      <th></th>\n",
       "      <th></th>\n",
       "    </tr>\n",
       "  </thead>\n",
       "  <tbody>\n",
       "    <tr>\n",
       "      <th>IT</th>\n",
       "      <td>818</td>\n",
       "      <td>158</td>\n",
       "    </tr>\n",
       "    <tr>\n",
       "      <th>RandD</th>\n",
       "      <td>609</td>\n",
       "      <td>85</td>\n",
       "    </tr>\n",
       "    <tr>\n",
       "      <th>accounting</th>\n",
       "      <td>512</td>\n",
       "      <td>109</td>\n",
       "    </tr>\n",
       "    <tr>\n",
       "      <th>hr</th>\n",
       "      <td>488</td>\n",
       "      <td>113</td>\n",
       "    </tr>\n",
       "    <tr>\n",
       "      <th>management</th>\n",
       "      <td>384</td>\n",
       "      <td>52</td>\n",
       "    </tr>\n",
       "    <tr>\n",
       "      <th>marketing</th>\n",
       "      <td>561</td>\n",
       "      <td>112</td>\n",
       "    </tr>\n",
       "    <tr>\n",
       "      <th>product_mng</th>\n",
       "      <td>576</td>\n",
       "      <td>110</td>\n",
       "    </tr>\n",
       "    <tr>\n",
       "      <th>sales</th>\n",
       "      <td>2689</td>\n",
       "      <td>550</td>\n",
       "    </tr>\n",
       "    <tr>\n",
       "      <th>support</th>\n",
       "      <td>1509</td>\n",
       "      <td>312</td>\n",
       "    </tr>\n",
       "    <tr>\n",
       "      <th>technical</th>\n",
       "      <td>1854</td>\n",
       "      <td>390</td>\n",
       "    </tr>\n",
       "  </tbody>\n",
       "</table>\n",
       "</div>"
      ],
      "text/plain": [
       "left            0    1\n",
       "departments           \n",
       "IT            818  158\n",
       "RandD         609   85\n",
       "accounting    512  109\n",
       "hr            488  113\n",
       "management    384   52\n",
       "marketing     561  112\n",
       "product_mng   576  110\n",
       "sales        2689  550\n",
       "support      1509  312\n",
       "technical    1854  390"
      ]
     },
     "execution_count": 50,
     "metadata": {},
     "output_type": "execute_result"
    }
   ],
   "source": [
    "pd.crosstab(df['departments'], df['left'])"
   ]
  },
  {
   "cell_type": "code",
   "execution_count": 51,
   "metadata": {
    "ExecuteTime": {
     "end_time": "2022-11-03T19:13:13.863070Z",
     "start_time": "2022-11-03T19:13:13.837073Z"
    },
    "cell_style": "split"
   },
   "outputs": [
    {
     "data": {
      "text/html": [
       "<div>\n",
       "<style scoped>\n",
       "    .dataframe tbody tr th:only-of-type {\n",
       "        vertical-align: middle;\n",
       "    }\n",
       "\n",
       "    .dataframe tbody tr th {\n",
       "        vertical-align: top;\n",
       "    }\n",
       "\n",
       "    .dataframe thead th {\n",
       "        text-align: right;\n",
       "    }\n",
       "</style>\n",
       "<table border=\"1\" class=\"dataframe\">\n",
       "  <thead>\n",
       "    <tr style=\"text-align: right;\">\n",
       "      <th>left</th>\n",
       "      <th>0</th>\n",
       "      <th>1</th>\n",
       "    </tr>\n",
       "    <tr>\n",
       "      <th>departments</th>\n",
       "      <th></th>\n",
       "      <th></th>\n",
       "    </tr>\n",
       "  </thead>\n",
       "  <tbody>\n",
       "    <tr>\n",
       "      <th>IT</th>\n",
       "      <td>0.838</td>\n",
       "      <td>0.162</td>\n",
       "    </tr>\n",
       "    <tr>\n",
       "      <th>RandD</th>\n",
       "      <td>0.878</td>\n",
       "      <td>0.122</td>\n",
       "    </tr>\n",
       "    <tr>\n",
       "      <th>accounting</th>\n",
       "      <td>0.824</td>\n",
       "      <td>0.176</td>\n",
       "    </tr>\n",
       "    <tr>\n",
       "      <th>hr</th>\n",
       "      <td>0.812</td>\n",
       "      <td>0.188</td>\n",
       "    </tr>\n",
       "    <tr>\n",
       "      <th>management</th>\n",
       "      <td>0.881</td>\n",
       "      <td>0.119</td>\n",
       "    </tr>\n",
       "    <tr>\n",
       "      <th>marketing</th>\n",
       "      <td>0.834</td>\n",
       "      <td>0.166</td>\n",
       "    </tr>\n",
       "    <tr>\n",
       "      <th>product_mng</th>\n",
       "      <td>0.840</td>\n",
       "      <td>0.160</td>\n",
       "    </tr>\n",
       "    <tr>\n",
       "      <th>sales</th>\n",
       "      <td>0.830</td>\n",
       "      <td>0.170</td>\n",
       "    </tr>\n",
       "    <tr>\n",
       "      <th>support</th>\n",
       "      <td>0.829</td>\n",
       "      <td>0.171</td>\n",
       "    </tr>\n",
       "    <tr>\n",
       "      <th>technical</th>\n",
       "      <td>0.826</td>\n",
       "      <td>0.174</td>\n",
       "    </tr>\n",
       "  </tbody>\n",
       "</table>\n",
       "</div>"
      ],
      "text/plain": [
       "left            0     1\n",
       "departments            \n",
       "IT          0.838 0.162\n",
       "RandD       0.878 0.122\n",
       "accounting  0.824 0.176\n",
       "hr          0.812 0.188\n",
       "management  0.881 0.119\n",
       "marketing   0.834 0.166\n",
       "product_mng 0.840 0.160\n",
       "sales       0.830 0.170\n",
       "support     0.829 0.171\n",
       "technical   0.826 0.174"
      ]
     },
     "execution_count": 51,
     "metadata": {},
     "output_type": "execute_result"
    }
   ],
   "source": [
    "pd.crosstab(df['departments'], df['left'], normalize='index')"
   ]
  },
  {
   "cell_type": "code",
   "execution_count": 52,
   "metadata": {
    "ExecuteTime": {
     "end_time": "2022-11-03T19:13:15.864817Z",
     "start_time": "2022-11-03T19:13:15.852822Z"
    },
    "cell_style": "split",
    "colab": {
     "base_uri": "https://localhost:8080/",
     "height": 143
    },
    "id": "RXtHHoGHFuha",
    "outputId": "c378c376-2272-4283-da4c-871dab47ee63"
   },
   "outputs": [
    {
     "data": {
      "text/html": [
       "<div>\n",
       "<style scoped>\n",
       "    .dataframe tbody tr th:only-of-type {\n",
       "        vertical-align: middle;\n",
       "    }\n",
       "\n",
       "    .dataframe tbody tr th {\n",
       "        vertical-align: top;\n",
       "    }\n",
       "\n",
       "    .dataframe thead th {\n",
       "        text-align: right;\n",
       "    }\n",
       "</style>\n",
       "<table border=\"1\" class=\"dataframe\">\n",
       "  <thead>\n",
       "    <tr style=\"text-align: right;\">\n",
       "      <th>left</th>\n",
       "      <th>0</th>\n",
       "      <th>1</th>\n",
       "    </tr>\n",
       "    <tr>\n",
       "      <th>promotion_last_5years</th>\n",
       "      <th></th>\n",
       "      <th></th>\n",
       "    </tr>\n",
       "  </thead>\n",
       "  <tbody>\n",
       "    <tr>\n",
       "      <th>0</th>\n",
       "      <td>9805</td>\n",
       "      <td>1983</td>\n",
       "    </tr>\n",
       "    <tr>\n",
       "      <th>1</th>\n",
       "      <td>195</td>\n",
       "      <td>8</td>\n",
       "    </tr>\n",
       "  </tbody>\n",
       "</table>\n",
       "</div>"
      ],
      "text/plain": [
       "left                      0     1\n",
       "promotion_last_5years            \n",
       "0                      9805  1983\n",
       "1                       195     8"
      ]
     },
     "execution_count": 52,
     "metadata": {},
     "output_type": "execute_result"
    }
   ],
   "source": [
    "pd.crosstab(df['promotion_last_5years'], df['left'])"
   ]
  },
  {
   "cell_type": "code",
   "execution_count": 53,
   "metadata": {
    "ExecuteTime": {
     "end_time": "2022-11-03T19:13:17.113561Z",
     "start_time": "2022-11-03T19:13:17.100567Z"
    },
    "cell_style": "split"
   },
   "outputs": [
    {
     "data": {
      "text/html": [
       "<div>\n",
       "<style scoped>\n",
       "    .dataframe tbody tr th:only-of-type {\n",
       "        vertical-align: middle;\n",
       "    }\n",
       "\n",
       "    .dataframe tbody tr th {\n",
       "        vertical-align: top;\n",
       "    }\n",
       "\n",
       "    .dataframe thead th {\n",
       "        text-align: right;\n",
       "    }\n",
       "</style>\n",
       "<table border=\"1\" class=\"dataframe\">\n",
       "  <thead>\n",
       "    <tr style=\"text-align: right;\">\n",
       "      <th>left</th>\n",
       "      <th>0</th>\n",
       "      <th>1</th>\n",
       "    </tr>\n",
       "    <tr>\n",
       "      <th>promotion_last_5years</th>\n",
       "      <th></th>\n",
       "      <th></th>\n",
       "    </tr>\n",
       "  </thead>\n",
       "  <tbody>\n",
       "    <tr>\n",
       "      <th>0</th>\n",
       "      <td>0.832</td>\n",
       "      <td>0.168</td>\n",
       "    </tr>\n",
       "    <tr>\n",
       "      <th>1</th>\n",
       "      <td>0.961</td>\n",
       "      <td>0.039</td>\n",
       "    </tr>\n",
       "  </tbody>\n",
       "</table>\n",
       "</div>"
      ],
      "text/plain": [
       "left                      0     1\n",
       "promotion_last_5years            \n",
       "0                     0.832 0.168\n",
       "1                     0.961 0.039"
      ]
     },
     "execution_count": 53,
     "metadata": {},
     "output_type": "execute_result"
    }
   ],
   "source": [
    "pd.crosstab(df['promotion_last_5years'], df['left'], normalize='index')"
   ]
  },
  {
   "cell_type": "code",
   "execution_count": null,
   "metadata": {
    "ExecuteTime": {
     "end_time": "2022-11-03T19:12:03.291149Z",
     "start_time": "2022-11-03T19:12:03.291149Z"
    },
    "hide_input": true
   },
   "outputs": [],
   "source": [
    "plt.figure(figsize=(10,4))\n",
    "\n",
    "plt.subplot(121)\n",
    "ax = sns.countplot(data=df, hue='left', x='promotion_last_5years');\n",
    "for p in ax.containers:\n",
    "    ax.bar_label(p)\n",
    "    \n",
    "df_per = df.groupby(\"promotion_last_5years\")[[\"left\"]].value_counts(normalize=True).reset_index().sort_values(by=0)\n",
    "\n",
    "plt.subplot(122)\n",
    "ax = sns.barplot(data=df_per, x=\"promotion_last_5years\", y=0, hue=\"left\",\n",
    "                 order=(df.promotion_last_5years.value_counts().index)\n",
    "                )\n",
    "ax.set(ylabel='percentage')\n",
    "\n",
    "for p in ax.containers:\n",
    "    ax.bar_label(p, fmt='%.2f')"
   ]
  },
  {
   "cell_type": "code",
   "execution_count": 54,
   "metadata": {
    "ExecuteTime": {
     "end_time": "2022-11-03T19:13:18.401843Z",
     "start_time": "2022-11-03T19:13:18.380841Z"
    },
    "cell_style": "split",
    "colab": {
     "base_uri": "https://localhost:8080/",
     "height": 143
    },
    "id": "FcVzommOFiBA",
    "outputId": "daf9ccd2-af53-4fcf-e982-42233b71f4fa"
   },
   "outputs": [
    {
     "data": {
      "text/html": [
       "<div>\n",
       "<style scoped>\n",
       "    .dataframe tbody tr th:only-of-type {\n",
       "        vertical-align: middle;\n",
       "    }\n",
       "\n",
       "    .dataframe tbody tr th {\n",
       "        vertical-align: top;\n",
       "    }\n",
       "\n",
       "    .dataframe thead th {\n",
       "        text-align: right;\n",
       "    }\n",
       "</style>\n",
       "<table border=\"1\" class=\"dataframe\">\n",
       "  <thead>\n",
       "    <tr style=\"text-align: right;\">\n",
       "      <th>left</th>\n",
       "      <th>0</th>\n",
       "      <th>1</th>\n",
       "    </tr>\n",
       "    <tr>\n",
       "      <th>work_accident</th>\n",
       "      <th></th>\n",
       "      <th></th>\n",
       "    </tr>\n",
       "  </thead>\n",
       "  <tbody>\n",
       "    <tr>\n",
       "      <th>0</th>\n",
       "      <td>8255</td>\n",
       "      <td>1886</td>\n",
       "    </tr>\n",
       "    <tr>\n",
       "      <th>1</th>\n",
       "      <td>1745</td>\n",
       "      <td>105</td>\n",
       "    </tr>\n",
       "  </tbody>\n",
       "</table>\n",
       "</div>"
      ],
      "text/plain": [
       "left              0     1\n",
       "work_accident            \n",
       "0              8255  1886\n",
       "1              1745   105"
      ]
     },
     "execution_count": 54,
     "metadata": {},
     "output_type": "execute_result"
    }
   ],
   "source": [
    "pd.crosstab(df['work_accident'], df['left'])"
   ]
  },
  {
   "cell_type": "code",
   "execution_count": 55,
   "metadata": {
    "ExecuteTime": {
     "end_time": "2022-11-03T19:13:19.548979Z",
     "start_time": "2022-11-03T19:13:19.523974Z"
    },
    "cell_style": "split"
   },
   "outputs": [
    {
     "data": {
      "text/html": [
       "<div>\n",
       "<style scoped>\n",
       "    .dataframe tbody tr th:only-of-type {\n",
       "        vertical-align: middle;\n",
       "    }\n",
       "\n",
       "    .dataframe tbody tr th {\n",
       "        vertical-align: top;\n",
       "    }\n",
       "\n",
       "    .dataframe thead th {\n",
       "        text-align: right;\n",
       "    }\n",
       "</style>\n",
       "<table border=\"1\" class=\"dataframe\">\n",
       "  <thead>\n",
       "    <tr style=\"text-align: right;\">\n",
       "      <th>left</th>\n",
       "      <th>0</th>\n",
       "      <th>1</th>\n",
       "    </tr>\n",
       "    <tr>\n",
       "      <th>work_accident</th>\n",
       "      <th></th>\n",
       "      <th></th>\n",
       "    </tr>\n",
       "  </thead>\n",
       "  <tbody>\n",
       "    <tr>\n",
       "      <th>0</th>\n",
       "      <td>0.814</td>\n",
       "      <td>0.186</td>\n",
       "    </tr>\n",
       "    <tr>\n",
       "      <th>1</th>\n",
       "      <td>0.943</td>\n",
       "      <td>0.057</td>\n",
       "    </tr>\n",
       "  </tbody>\n",
       "</table>\n",
       "</div>"
      ],
      "text/plain": [
       "left              0     1\n",
       "work_accident            \n",
       "0             0.814 0.186\n",
       "1             0.943 0.057"
      ]
     },
     "execution_count": 55,
     "metadata": {},
     "output_type": "execute_result"
    }
   ],
   "source": [
    "pd.crosstab(df['work_accident'], df['left'], normalize='index')"
   ]
  },
  {
   "cell_type": "code",
   "execution_count": 56,
   "metadata": {
    "ExecuteTime": {
     "end_time": "2022-11-03T19:13:22.269379Z",
     "start_time": "2022-11-03T19:13:22.245374Z"
    },
    "cell_style": "split",
    "colab": {
     "base_uri": "https://localhost:8080/",
     "height": 237
    },
    "id": "NpjpzEf7FaVu",
    "outputId": "8f95de30-b495-40de-a5a1-c4de5c0e963e"
   },
   "outputs": [
    {
     "data": {
      "text/html": [
       "<div>\n",
       "<style scoped>\n",
       "    .dataframe tbody tr th:only-of-type {\n",
       "        vertical-align: middle;\n",
       "    }\n",
       "\n",
       "    .dataframe tbody tr th {\n",
       "        vertical-align: top;\n",
       "    }\n",
       "\n",
       "    .dataframe thead th {\n",
       "        text-align: right;\n",
       "    }\n",
       "</style>\n",
       "<table border=\"1\" class=\"dataframe\">\n",
       "  <thead>\n",
       "    <tr style=\"text-align: right;\">\n",
       "      <th>left</th>\n",
       "      <th>0</th>\n",
       "      <th>1</th>\n",
       "    </tr>\n",
       "    <tr>\n",
       "      <th>time_spend_company</th>\n",
       "      <th></th>\n",
       "      <th></th>\n",
       "    </tr>\n",
       "  </thead>\n",
       "  <tbody>\n",
       "    <tr>\n",
       "      <th>2</th>\n",
       "      <td>2879</td>\n",
       "      <td>31</td>\n",
       "    </tr>\n",
       "    <tr>\n",
       "      <th>3</th>\n",
       "      <td>4316</td>\n",
       "      <td>874</td>\n",
       "    </tr>\n",
       "    <tr>\n",
       "      <th>4</th>\n",
       "      <td>1510</td>\n",
       "      <td>495</td>\n",
       "    </tr>\n",
       "    <tr>\n",
       "      <th>5</th>\n",
       "      <td>580</td>\n",
       "      <td>482</td>\n",
       "    </tr>\n",
       "    <tr>\n",
       "      <th>6</th>\n",
       "      <td>433</td>\n",
       "      <td>109</td>\n",
       "    </tr>\n",
       "  </tbody>\n",
       "</table>\n",
       "</div>"
      ],
      "text/plain": [
       "left                   0    1\n",
       "time_spend_company           \n",
       "2                   2879   31\n",
       "3                   4316  874\n",
       "4                   1510  495\n",
       "5                    580  482\n",
       "6                    433  109"
      ]
     },
     "execution_count": 56,
     "metadata": {},
     "output_type": "execute_result"
    }
   ],
   "source": [
    "pd.crosstab(df['time_spend_company'], df['left']).head()"
   ]
  },
  {
   "cell_type": "code",
   "execution_count": 57,
   "metadata": {
    "ExecuteTime": {
     "end_time": "2022-11-03T19:13:25.487115Z",
     "start_time": "2022-11-03T19:13:25.469112Z"
    },
    "cell_style": "split",
    "colab": {
     "base_uri": "https://localhost:8080/",
     "height": 237
    },
    "id": "fB14J-P1FPq4",
    "outputId": "9872b3ee-387c-49db-d26f-519165c601ef"
   },
   "outputs": [
    {
     "data": {
      "text/html": [
       "<div>\n",
       "<style scoped>\n",
       "    .dataframe tbody tr th:only-of-type {\n",
       "        vertical-align: middle;\n",
       "    }\n",
       "\n",
       "    .dataframe tbody tr th {\n",
       "        vertical-align: top;\n",
       "    }\n",
       "\n",
       "    .dataframe thead th {\n",
       "        text-align: right;\n",
       "    }\n",
       "</style>\n",
       "<table border=\"1\" class=\"dataframe\">\n",
       "  <thead>\n",
       "    <tr style=\"text-align: right;\">\n",
       "      <th>left</th>\n",
       "      <th>0</th>\n",
       "      <th>1</th>\n",
       "    </tr>\n",
       "    <tr>\n",
       "      <th>average_montly_hours</th>\n",
       "      <th></th>\n",
       "      <th></th>\n",
       "    </tr>\n",
       "  </thead>\n",
       "  <tbody>\n",
       "    <tr>\n",
       "      <th>96</th>\n",
       "      <td>6</td>\n",
       "      <td>0</td>\n",
       "    </tr>\n",
       "    <tr>\n",
       "      <th>97</th>\n",
       "      <td>13</td>\n",
       "      <td>0</td>\n",
       "    </tr>\n",
       "    <tr>\n",
       "      <th>98</th>\n",
       "      <td>20</td>\n",
       "      <td>0</td>\n",
       "    </tr>\n",
       "    <tr>\n",
       "      <th>99</th>\n",
       "      <td>11</td>\n",
       "      <td>0</td>\n",
       "    </tr>\n",
       "    <tr>\n",
       "      <th>100</th>\n",
       "      <td>17</td>\n",
       "      <td>0</td>\n",
       "    </tr>\n",
       "  </tbody>\n",
       "</table>\n",
       "</div>"
      ],
      "text/plain": [
       "left                   0  1\n",
       "average_montly_hours       \n",
       "96                     6  0\n",
       "97                    13  0\n",
       "98                    20  0\n",
       "99                    11  0\n",
       "100                   17  0"
      ]
     },
     "execution_count": 57,
     "metadata": {},
     "output_type": "execute_result"
    }
   ],
   "source": [
    "pd.crosstab(df['average_montly_hours'], df['left']).head()"
   ]
  },
  {
   "cell_type": "code",
   "execution_count": 58,
   "metadata": {
    "ExecuteTime": {
     "end_time": "2022-11-03T19:13:34.025244Z",
     "start_time": "2022-11-03T19:13:34.003239Z"
    },
    "cell_style": "split"
   },
   "outputs": [
    {
     "data": {
      "text/html": [
       "<div>\n",
       "<style scoped>\n",
       "    .dataframe tbody tr th:only-of-type {\n",
       "        vertical-align: middle;\n",
       "    }\n",
       "\n",
       "    .dataframe tbody tr th {\n",
       "        vertical-align: top;\n",
       "    }\n",
       "\n",
       "    .dataframe thead th {\n",
       "        text-align: right;\n",
       "    }\n",
       "</style>\n",
       "<table border=\"1\" class=\"dataframe\">\n",
       "  <thead>\n",
       "    <tr style=\"text-align: right;\">\n",
       "      <th>left</th>\n",
       "      <th>0</th>\n",
       "      <th>1</th>\n",
       "    </tr>\n",
       "    <tr>\n",
       "      <th>number_project</th>\n",
       "      <th></th>\n",
       "      <th></th>\n",
       "    </tr>\n",
       "  </thead>\n",
       "  <tbody>\n",
       "    <tr>\n",
       "      <th>2</th>\n",
       "      <td>725</td>\n",
       "      <td>857</td>\n",
       "    </tr>\n",
       "    <tr>\n",
       "      <th>3</th>\n",
       "      <td>3482</td>\n",
       "      <td>38</td>\n",
       "    </tr>\n",
       "    <tr>\n",
       "      <th>4</th>\n",
       "      <td>3448</td>\n",
       "      <td>237</td>\n",
       "    </tr>\n",
       "    <tr>\n",
       "      <th>5</th>\n",
       "      <td>1890</td>\n",
       "      <td>343</td>\n",
       "    </tr>\n",
       "    <tr>\n",
       "      <th>6</th>\n",
       "      <td>455</td>\n",
       "      <td>371</td>\n",
       "    </tr>\n",
       "    <tr>\n",
       "      <th>7</th>\n",
       "      <td>0</td>\n",
       "      <td>145</td>\n",
       "    </tr>\n",
       "  </tbody>\n",
       "</table>\n",
       "</div>"
      ],
      "text/plain": [
       "left               0    1\n",
       "number_project           \n",
       "2                725  857\n",
       "3               3482   38\n",
       "4               3448  237\n",
       "5               1890  343\n",
       "6                455  371\n",
       "7                  0  145"
      ]
     },
     "execution_count": 58,
     "metadata": {},
     "output_type": "execute_result"
    }
   ],
   "source": [
    "pd.crosstab(df['number_project'], df['left'])"
   ]
  },
  {
   "cell_type": "code",
   "execution_count": 59,
   "metadata": {
    "ExecuteTime": {
     "end_time": "2022-11-03T19:13:35.176305Z",
     "start_time": "2022-11-03T19:13:35.155300Z"
    },
    "cell_style": "split",
    "colab": {
     "base_uri": "https://localhost:8080/",
     "height": 269
    },
    "id": "W1-JfPzPExef",
    "outputId": "ef1e9c0a-a765-426a-c5e2-a3432ad1173f"
   },
   "outputs": [
    {
     "data": {
      "text/html": [
       "<div>\n",
       "<style scoped>\n",
       "    .dataframe tbody tr th:only-of-type {\n",
       "        vertical-align: middle;\n",
       "    }\n",
       "\n",
       "    .dataframe tbody tr th {\n",
       "        vertical-align: top;\n",
       "    }\n",
       "\n",
       "    .dataframe thead th {\n",
       "        text-align: right;\n",
       "    }\n",
       "</style>\n",
       "<table border=\"1\" class=\"dataframe\">\n",
       "  <thead>\n",
       "    <tr style=\"text-align: right;\">\n",
       "      <th>left</th>\n",
       "      <th>0</th>\n",
       "      <th>1</th>\n",
       "    </tr>\n",
       "    <tr>\n",
       "      <th>number_project</th>\n",
       "      <th></th>\n",
       "      <th></th>\n",
       "    </tr>\n",
       "  </thead>\n",
       "  <tbody>\n",
       "    <tr>\n",
       "      <th>2</th>\n",
       "      <td>0.458</td>\n",
       "      <td>0.542</td>\n",
       "    </tr>\n",
       "    <tr>\n",
       "      <th>3</th>\n",
       "      <td>0.989</td>\n",
       "      <td>0.011</td>\n",
       "    </tr>\n",
       "    <tr>\n",
       "      <th>4</th>\n",
       "      <td>0.936</td>\n",
       "      <td>0.064</td>\n",
       "    </tr>\n",
       "    <tr>\n",
       "      <th>5</th>\n",
       "      <td>0.846</td>\n",
       "      <td>0.154</td>\n",
       "    </tr>\n",
       "    <tr>\n",
       "      <th>6</th>\n",
       "      <td>0.551</td>\n",
       "      <td>0.449</td>\n",
       "    </tr>\n",
       "    <tr>\n",
       "      <th>7</th>\n",
       "      <td>0.000</td>\n",
       "      <td>1.000</td>\n",
       "    </tr>\n",
       "  </tbody>\n",
       "</table>\n",
       "</div>"
      ],
      "text/plain": [
       "left               0     1\n",
       "number_project            \n",
       "2              0.458 0.542\n",
       "3              0.989 0.011\n",
       "4              0.936 0.064\n",
       "5              0.846 0.154\n",
       "6              0.551 0.449\n",
       "7              0.000 1.000"
      ]
     },
     "execution_count": 59,
     "metadata": {},
     "output_type": "execute_result"
    }
   ],
   "source": [
    "pd.crosstab(df['number_project'], df['left'], normalize=\"index\")"
   ]
  },
  {
   "cell_type": "code",
   "execution_count": 60,
   "metadata": {
    "ExecuteTime": {
     "end_time": "2022-11-03T19:13:36.458328Z",
     "start_time": "2022-11-03T19:13:36.435324Z"
    },
    "cell_style": "split",
    "colab": {
     "base_uri": "https://localhost:8080/",
     "height": 237
    },
    "id": "lAlOGBRSExX7",
    "outputId": "d5e2cff2-acdf-4bcd-9b25-ac90dd27d7b7"
   },
   "outputs": [
    {
     "data": {
      "text/html": [
       "<div>\n",
       "<style scoped>\n",
       "    .dataframe tbody tr th:only-of-type {\n",
       "        vertical-align: middle;\n",
       "    }\n",
       "\n",
       "    .dataframe tbody tr th {\n",
       "        vertical-align: top;\n",
       "    }\n",
       "\n",
       "    .dataframe thead th {\n",
       "        text-align: right;\n",
       "    }\n",
       "</style>\n",
       "<table border=\"1\" class=\"dataframe\">\n",
       "  <thead>\n",
       "    <tr style=\"text-align: right;\">\n",
       "      <th>left</th>\n",
       "      <th>0</th>\n",
       "      <th>1</th>\n",
       "    </tr>\n",
       "    <tr>\n",
       "      <th>last_evaluation</th>\n",
       "      <th></th>\n",
       "      <th></th>\n",
       "    </tr>\n",
       "  </thead>\n",
       "  <tbody>\n",
       "    <tr>\n",
       "      <th>0.360</th>\n",
       "      <td>19</td>\n",
       "      <td>0</td>\n",
       "    </tr>\n",
       "    <tr>\n",
       "      <th>0.370</th>\n",
       "      <td>46</td>\n",
       "      <td>0</td>\n",
       "    </tr>\n",
       "    <tr>\n",
       "      <th>0.380</th>\n",
       "      <td>42</td>\n",
       "      <td>0</td>\n",
       "    </tr>\n",
       "    <tr>\n",
       "      <th>0.390</th>\n",
       "      <td>45</td>\n",
       "      <td>0</td>\n",
       "    </tr>\n",
       "    <tr>\n",
       "      <th>0.400</th>\n",
       "      <td>49</td>\n",
       "      <td>0</td>\n",
       "    </tr>\n",
       "  </tbody>\n",
       "</table>\n",
       "</div>"
      ],
      "text/plain": [
       "left              0  1\n",
       "last_evaluation       \n",
       "0.360            19  0\n",
       "0.370            46  0\n",
       "0.380            42  0\n",
       "0.390            45  0\n",
       "0.400            49  0"
      ]
     },
     "execution_count": 60,
     "metadata": {},
     "output_type": "execute_result"
    }
   ],
   "source": [
    "pd.crosstab(df['last_evaluation'], df['left']).head()"
   ]
  },
  {
   "cell_type": "code",
   "execution_count": 61,
   "metadata": {
    "ExecuteTime": {
     "end_time": "2022-11-03T19:13:45.729529Z",
     "start_time": "2022-11-03T19:13:45.699523Z"
    },
    "cell_style": "split",
    "colab": {
     "base_uri": "https://localhost:8080/",
     "height": 1000
    },
    "id": "MBMDt-ffTAox",
    "outputId": "aefd648d-d166-4e25-a925-d6aeae719a74"
   },
   "outputs": [
    {
     "data": {
      "text/html": [
       "<div>\n",
       "<style scoped>\n",
       "    .dataframe tbody tr th:only-of-type {\n",
       "        vertical-align: middle;\n",
       "    }\n",
       "\n",
       "    .dataframe tbody tr th {\n",
       "        vertical-align: top;\n",
       "    }\n",
       "\n",
       "    .dataframe thead th {\n",
       "        text-align: right;\n",
       "    }\n",
       "</style>\n",
       "<table border=\"1\" class=\"dataframe\">\n",
       "  <thead>\n",
       "    <tr style=\"text-align: right;\">\n",
       "      <th>left</th>\n",
       "      <th>0</th>\n",
       "      <th>1</th>\n",
       "    </tr>\n",
       "    <tr>\n",
       "      <th>satisfaction_level</th>\n",
       "      <th></th>\n",
       "      <th></th>\n",
       "    </tr>\n",
       "  </thead>\n",
       "  <tbody>\n",
       "    <tr>\n",
       "      <th>0.090</th>\n",
       "      <td>0</td>\n",
       "      <td>110</td>\n",
       "    </tr>\n",
       "    <tr>\n",
       "      <th>0.100</th>\n",
       "      <td>0</td>\n",
       "      <td>203</td>\n",
       "    </tr>\n",
       "    <tr>\n",
       "      <th>0.110</th>\n",
       "      <td>0</td>\n",
       "      <td>188</td>\n",
       "    </tr>\n",
       "    <tr>\n",
       "      <th>0.120</th>\n",
       "      <td>24</td>\n",
       "      <td>2</td>\n",
       "    </tr>\n",
       "    <tr>\n",
       "      <th>0.130</th>\n",
       "      <td>44</td>\n",
       "      <td>1</td>\n",
       "    </tr>\n",
       "    <tr>\n",
       "      <th>0.140</th>\n",
       "      <td>55</td>\n",
       "      <td>7</td>\n",
       "    </tr>\n",
       "    <tr>\n",
       "      <th>0.150</th>\n",
       "      <td>66</td>\n",
       "      <td>3</td>\n",
       "    </tr>\n",
       "    <tr>\n",
       "      <th>0.160</th>\n",
       "      <td>58</td>\n",
       "      <td>1</td>\n",
       "    </tr>\n",
       "    <tr>\n",
       "      <th>0.170</th>\n",
       "      <td>59</td>\n",
       "      <td>3</td>\n",
       "    </tr>\n",
       "    <tr>\n",
       "      <th>0.180</th>\n",
       "      <td>56</td>\n",
       "      <td>0</td>\n",
       "    </tr>\n",
       "    <tr>\n",
       "      <th>0.190</th>\n",
       "      <td>56</td>\n",
       "      <td>2</td>\n",
       "    </tr>\n",
       "    <tr>\n",
       "      <th>0.200</th>\n",
       "      <td>53</td>\n",
       "      <td>3</td>\n",
       "    </tr>\n",
       "    <tr>\n",
       "      <th>0.210</th>\n",
       "      <td>62</td>\n",
       "      <td>1</td>\n",
       "    </tr>\n",
       "    <tr>\n",
       "      <th>0.220</th>\n",
       "      <td>52</td>\n",
       "      <td>1</td>\n",
       "    </tr>\n",
       "    <tr>\n",
       "      <th>0.230</th>\n",
       "      <td>49</td>\n",
       "      <td>2</td>\n",
       "    </tr>\n",
       "    <tr>\n",
       "      <th>0.240</th>\n",
       "      <td>67</td>\n",
       "      <td>1</td>\n",
       "    </tr>\n",
       "    <tr>\n",
       "      <th>0.250</th>\n",
       "      <td>28</td>\n",
       "      <td>1</td>\n",
       "    </tr>\n",
       "    <tr>\n",
       "      <th>0.260</th>\n",
       "      <td>27</td>\n",
       "      <td>1</td>\n",
       "    </tr>\n",
       "    <tr>\n",
       "      <th>0.270</th>\n",
       "      <td>21</td>\n",
       "      <td>2</td>\n",
       "    </tr>\n",
       "    <tr>\n",
       "      <th>0.280</th>\n",
       "      <td>23</td>\n",
       "      <td>1</td>\n",
       "    </tr>\n",
       "    <tr>\n",
       "      <th>0.290</th>\n",
       "      <td>31</td>\n",
       "      <td>1</td>\n",
       "    </tr>\n",
       "    <tr>\n",
       "      <th>0.300</th>\n",
       "      <td>36</td>\n",
       "      <td>2</td>\n",
       "    </tr>\n",
       "    <tr>\n",
       "      <th>0.310</th>\n",
       "      <td>35</td>\n",
       "      <td>7</td>\n",
       "    </tr>\n",
       "    <tr>\n",
       "      <th>0.320</th>\n",
       "      <td>38</td>\n",
       "      <td>4</td>\n",
       "    </tr>\n",
       "    <tr>\n",
       "      <th>0.330</th>\n",
       "      <td>29</td>\n",
       "      <td>1</td>\n",
       "    </tr>\n",
       "    <tr>\n",
       "      <th>0.340</th>\n",
       "      <td>42</td>\n",
       "      <td>2</td>\n",
       "    </tr>\n",
       "    <tr>\n",
       "      <th>0.350</th>\n",
       "      <td>34</td>\n",
       "      <td>2</td>\n",
       "    </tr>\n",
       "    <tr>\n",
       "      <th>0.360</th>\n",
       "      <td>39</td>\n",
       "      <td>59</td>\n",
       "    </tr>\n",
       "    <tr>\n",
       "      <th>0.370</th>\n",
       "      <td>37</td>\n",
       "      <td>93</td>\n",
       "    </tr>\n",
       "    <tr>\n",
       "      <th>0.380</th>\n",
       "      <td>31</td>\n",
       "      <td>85</td>\n",
       "    </tr>\n",
       "    <tr>\n",
       "      <th>0.390</th>\n",
       "      <td>29</td>\n",
       "      <td>82</td>\n",
       "    </tr>\n",
       "    <tr>\n",
       "      <th>0.400</th>\n",
       "      <td>37</td>\n",
       "      <td>89</td>\n",
       "    </tr>\n",
       "    <tr>\n",
       "      <th>0.410</th>\n",
       "      <td>35</td>\n",
       "      <td>69</td>\n",
       "    </tr>\n",
       "    <tr>\n",
       "      <th>0.420</th>\n",
       "      <td>41</td>\n",
       "      <td>67</td>\n",
       "    </tr>\n",
       "    <tr>\n",
       "      <th>0.430</th>\n",
       "      <td>36</td>\n",
       "      <td>105</td>\n",
       "    </tr>\n",
       "    <tr>\n",
       "      <th>0.440</th>\n",
       "      <td>51</td>\n",
       "      <td>87</td>\n",
       "    </tr>\n",
       "    <tr>\n",
       "      <th>0.450</th>\n",
       "      <td>41</td>\n",
       "      <td>80</td>\n",
       "    </tr>\n",
       "    <tr>\n",
       "      <th>0.460</th>\n",
       "      <td>27</td>\n",
       "      <td>36</td>\n",
       "    </tr>\n",
       "    <tr>\n",
       "      <th>0.470</th>\n",
       "      <td>32</td>\n",
       "      <td>2</td>\n",
       "    </tr>\n",
       "    <tr>\n",
       "      <th>0.480</th>\n",
       "      <td>116</td>\n",
       "      <td>4</td>\n",
       "    </tr>\n",
       "    <tr>\n",
       "      <th>0.490</th>\n",
       "      <td>175</td>\n",
       "      <td>2</td>\n",
       "    </tr>\n",
       "    <tr>\n",
       "      <th>0.500</th>\n",
       "      <td>198</td>\n",
       "      <td>2</td>\n",
       "    </tr>\n",
       "    <tr>\n",
       "      <th>0.510</th>\n",
       "      <td>157</td>\n",
       "      <td>3</td>\n",
       "    </tr>\n",
       "    <tr>\n",
       "      <th>0.520</th>\n",
       "      <td>172</td>\n",
       "      <td>0</td>\n",
       "    </tr>\n",
       "    <tr>\n",
       "      <th>0.530</th>\n",
       "      <td>146</td>\n",
       "      <td>4</td>\n",
       "    </tr>\n",
       "    <tr>\n",
       "      <th>0.540</th>\n",
       "      <td>162</td>\n",
       "      <td>4</td>\n",
       "    </tr>\n",
       "    <tr>\n",
       "      <th>0.550</th>\n",
       "      <td>157</td>\n",
       "      <td>2</td>\n",
       "    </tr>\n",
       "    <tr>\n",
       "      <th>0.560</th>\n",
       "      <td>163</td>\n",
       "      <td>3</td>\n",
       "    </tr>\n",
       "    <tr>\n",
       "      <th>0.570</th>\n",
       "      <td>175</td>\n",
       "      <td>4</td>\n",
       "    </tr>\n",
       "    <tr>\n",
       "      <th>0.580</th>\n",
       "      <td>161</td>\n",
       "      <td>1</td>\n",
       "    </tr>\n",
       "    <tr>\n",
       "      <th>0.590</th>\n",
       "      <td>181</td>\n",
       "      <td>4</td>\n",
       "    </tr>\n",
       "    <tr>\n",
       "      <th>0.600</th>\n",
       "      <td>165</td>\n",
       "      <td>2</td>\n",
       "    </tr>\n",
       "    <tr>\n",
       "      <th>0.610</th>\n",
       "      <td>172</td>\n",
       "      <td>4</td>\n",
       "    </tr>\n",
       "    <tr>\n",
       "      <th>0.620</th>\n",
       "      <td>160</td>\n",
       "      <td>2</td>\n",
       "    </tr>\n",
       "    <tr>\n",
       "      <th>0.630</th>\n",
       "      <td>180</td>\n",
       "      <td>4</td>\n",
       "    </tr>\n",
       "    <tr>\n",
       "      <th>0.640</th>\n",
       "      <td>163</td>\n",
       "      <td>1</td>\n",
       "    </tr>\n",
       "    <tr>\n",
       "      <th>0.650</th>\n",
       "      <td>170</td>\n",
       "      <td>1</td>\n",
       "    </tr>\n",
       "    <tr>\n",
       "      <th>0.660</th>\n",
       "      <td>186</td>\n",
       "      <td>6</td>\n",
       "    </tr>\n",
       "    <tr>\n",
       "      <th>0.670</th>\n",
       "      <td>157</td>\n",
       "      <td>1</td>\n",
       "    </tr>\n",
       "    <tr>\n",
       "      <th>0.680</th>\n",
       "      <td>144</td>\n",
       "      <td>1</td>\n",
       "    </tr>\n",
       "    <tr>\n",
       "      <th>0.690</th>\n",
       "      <td>178</td>\n",
       "      <td>0</td>\n",
       "    </tr>\n",
       "    <tr>\n",
       "      <th>0.700</th>\n",
       "      <td>171</td>\n",
       "      <td>5</td>\n",
       "    </tr>\n",
       "    <tr>\n",
       "      <th>0.710</th>\n",
       "      <td>150</td>\n",
       "      <td>2</td>\n",
       "    </tr>\n",
       "    <tr>\n",
       "      <th>0.720</th>\n",
       "      <td>180</td>\n",
       "      <td>19</td>\n",
       "    </tr>\n",
       "    <tr>\n",
       "      <th>0.730</th>\n",
       "      <td>175</td>\n",
       "      <td>26</td>\n",
       "    </tr>\n",
       "    <tr>\n",
       "      <th>0.740</th>\n",
       "      <td>186</td>\n",
       "      <td>28</td>\n",
       "    </tr>\n",
       "    <tr>\n",
       "      <th>0.750</th>\n",
       "      <td>165</td>\n",
       "      <td>23</td>\n",
       "    </tr>\n",
       "    <tr>\n",
       "      <th>0.760</th>\n",
       "      <td>165</td>\n",
       "      <td>23</td>\n",
       "    </tr>\n",
       "    <tr>\n",
       "      <th>0.770</th>\n",
       "      <td>168</td>\n",
       "      <td>26</td>\n",
       "    </tr>\n",
       "    <tr>\n",
       "      <th>0.780</th>\n",
       "      <td>163</td>\n",
       "      <td>31</td>\n",
       "    </tr>\n",
       "    <tr>\n",
       "      <th>0.790</th>\n",
       "      <td>151</td>\n",
       "      <td>26</td>\n",
       "    </tr>\n",
       "    <tr>\n",
       "      <th>0.800</th>\n",
       "      <td>170</td>\n",
       "      <td>16</td>\n",
       "    </tr>\n",
       "    <tr>\n",
       "      <th>0.810</th>\n",
       "      <td>150</td>\n",
       "      <td>26</td>\n",
       "    </tr>\n",
       "    <tr>\n",
       "      <th>0.820</th>\n",
       "      <td>150</td>\n",
       "      <td>30</td>\n",
       "    </tr>\n",
       "    <tr>\n",
       "      <th>0.830</th>\n",
       "      <td>167</td>\n",
       "      <td>29</td>\n",
       "    </tr>\n",
       "    <tr>\n",
       "      <th>0.840</th>\n",
       "      <td>166</td>\n",
       "      <td>33</td>\n",
       "    </tr>\n",
       "    <tr>\n",
       "      <th>0.850</th>\n",
       "      <td>156</td>\n",
       "      <td>21</td>\n",
       "    </tr>\n",
       "    <tr>\n",
       "      <th>0.860</th>\n",
       "      <td>144</td>\n",
       "      <td>26</td>\n",
       "    </tr>\n",
       "    <tr>\n",
       "      <th>0.870</th>\n",
       "      <td>145</td>\n",
       "      <td>31</td>\n",
       "    </tr>\n",
       "    <tr>\n",
       "      <th>0.880</th>\n",
       "      <td>143</td>\n",
       "      <td>17</td>\n",
       "    </tr>\n",
       "    <tr>\n",
       "      <th>0.890</th>\n",
       "      <td>161</td>\n",
       "      <td>30</td>\n",
       "    </tr>\n",
       "    <tr>\n",
       "      <th>0.900</th>\n",
       "      <td>146</td>\n",
       "      <td>26</td>\n",
       "    </tr>\n",
       "    <tr>\n",
       "      <th>0.910</th>\n",
       "      <td>163</td>\n",
       "      <td>24</td>\n",
       "    </tr>\n",
       "    <tr>\n",
       "      <th>0.920</th>\n",
       "      <td>151</td>\n",
       "      <td>12</td>\n",
       "    </tr>\n",
       "    <tr>\n",
       "      <th>0.930</th>\n",
       "      <td>148</td>\n",
       "      <td>0</td>\n",
       "    </tr>\n",
       "    <tr>\n",
       "      <th>0.940</th>\n",
       "      <td>143</td>\n",
       "      <td>0</td>\n",
       "    </tr>\n",
       "    <tr>\n",
       "      <th>0.950</th>\n",
       "      <td>153</td>\n",
       "      <td>0</td>\n",
       "    </tr>\n",
       "    <tr>\n",
       "      <th>0.960</th>\n",
       "      <td>179</td>\n",
       "      <td>0</td>\n",
       "    </tr>\n",
       "    <tr>\n",
       "      <th>0.970</th>\n",
       "      <td>150</td>\n",
       "      <td>0</td>\n",
       "    </tr>\n",
       "    <tr>\n",
       "      <th>0.980</th>\n",
       "      <td>165</td>\n",
       "      <td>0</td>\n",
       "    </tr>\n",
       "    <tr>\n",
       "      <th>0.990</th>\n",
       "      <td>157</td>\n",
       "      <td>0</td>\n",
       "    </tr>\n",
       "    <tr>\n",
       "      <th>1.000</th>\n",
       "      <td>100</td>\n",
       "      <td>0</td>\n",
       "    </tr>\n",
       "  </tbody>\n",
       "</table>\n",
       "</div>"
      ],
      "text/plain": [
       "left                  0    1\n",
       "satisfaction_level          \n",
       "0.090                 0  110\n",
       "0.100                 0  203\n",
       "0.110                 0  188\n",
       "0.120                24    2\n",
       "0.130                44    1\n",
       "0.140                55    7\n",
       "0.150                66    3\n",
       "0.160                58    1\n",
       "0.170                59    3\n",
       "0.180                56    0\n",
       "0.190                56    2\n",
       "0.200                53    3\n",
       "0.210                62    1\n",
       "0.220                52    1\n",
       "0.230                49    2\n",
       "0.240                67    1\n",
       "0.250                28    1\n",
       "0.260                27    1\n",
       "0.270                21    2\n",
       "0.280                23    1\n",
       "0.290                31    1\n",
       "0.300                36    2\n",
       "0.310                35    7\n",
       "0.320                38    4\n",
       "0.330                29    1\n",
       "0.340                42    2\n",
       "0.350                34    2\n",
       "0.360                39   59\n",
       "0.370                37   93\n",
       "0.380                31   85\n",
       "0.390                29   82\n",
       "0.400                37   89\n",
       "0.410                35   69\n",
       "0.420                41   67\n",
       "0.430                36  105\n",
       "0.440                51   87\n",
       "0.450                41   80\n",
       "0.460                27   36\n",
       "0.470                32    2\n",
       "0.480               116    4\n",
       "0.490               175    2\n",
       "0.500               198    2\n",
       "0.510               157    3\n",
       "0.520               172    0\n",
       "0.530               146    4\n",
       "0.540               162    4\n",
       "0.550               157    2\n",
       "0.560               163    3\n",
       "0.570               175    4\n",
       "0.580               161    1\n",
       "0.590               181    4\n",
       "0.600               165    2\n",
       "0.610               172    4\n",
       "0.620               160    2\n",
       "0.630               180    4\n",
       "0.640               163    1\n",
       "0.650               170    1\n",
       "0.660               186    6\n",
       "0.670               157    1\n",
       "0.680               144    1\n",
       "0.690               178    0\n",
       "0.700               171    5\n",
       "0.710               150    2\n",
       "0.720               180   19\n",
       "0.730               175   26\n",
       "0.740               186   28\n",
       "0.750               165   23\n",
       "0.760               165   23\n",
       "0.770               168   26\n",
       "0.780               163   31\n",
       "0.790               151   26\n",
       "0.800               170   16\n",
       "0.810               150   26\n",
       "0.820               150   30\n",
       "0.830               167   29\n",
       "0.840               166   33\n",
       "0.850               156   21\n",
       "0.860               144   26\n",
       "0.870               145   31\n",
       "0.880               143   17\n",
       "0.890               161   30\n",
       "0.900               146   26\n",
       "0.910               163   24\n",
       "0.920               151   12\n",
       "0.930               148    0\n",
       "0.940               143    0\n",
       "0.950               153    0\n",
       "0.960               179    0\n",
       "0.970               150    0\n",
       "0.980               165    0\n",
       "0.990               157    0\n",
       "1.000               100    0"
      ]
     },
     "execution_count": 61,
     "metadata": {},
     "output_type": "execute_result"
    }
   ],
   "source": [
    "pd.crosstab(df['satisfaction_level'], df['left'])"
   ]
  },
  {
   "cell_type": "markdown",
   "metadata": {
    "id": "0PsO9Iew2smG"
   },
   "source": [
    "## 2. Data Visualization\n",
    "\n",
    "You can search for answers to the following questions using data visualization methods. Based on these responses, you can develop comments about the factors that cause churn.\n",
    "- How does the promotion status affect employee churn?\n",
    "- How does years of experience affect employee churn?\n",
    "- How does workload affect employee churn?\n",
    "- How does the salary level affect employee churn?\n",
    "\n",
    "*Feel free to add more visualization"
   ]
  },
  {
   "cell_type": "markdown",
   "metadata": {
    "id": "qRQhFwtq2smI"
   },
   "source": [
    "### Employees Left\n",
    "\n",
    "Let's check how many employees were left?\n",
    "Here, you can plot a bar graph using Matplotlib. The bar graph is suitable for showing discrete variable counts."
   ]
  },
  {
   "cell_type": "code",
   "execution_count": 62,
   "metadata": {
    "ExecuteTime": {
     "end_time": "2022-11-03T19:13:50.456400Z",
     "start_time": "2022-11-03T19:13:50.235609Z"
    }
   },
   "outputs": [
    {
     "data": {
      "image/png": "[encoded data removed]",
      "text/plain": [
       "<Figure size 500x500 with 1 Axes>"
      ]
     },
     "metadata": {},
     "output_type": "display_data"
    }
   ],
   "source": [
    "df['left'].value_counts().sort_index().plot.pie(\n",
    "#     subplots=True, layout=(1,2),\n",
    "#     startangle=90, legend=True,\n",
    "    shadow=True, figsize=(5,5),\n",
    "    textprops={'fontsize':10, 'color':'k'},\n",
    "    wedgeprops = {'linewidth':2, 'edgecolor':'w'},\n",
    "    colors=['LightSkyBlue', 'salmon', 'g', 'm'],\n",
    "    explode=[0, 0.1],\n",
    "    title='Those who left vs those who stayed',\n",
    "    labels=['stayed', 'left'],\n",
    "    ylabel= \"\",\n",
    "    labeldistance=1.1, pctdistance=0.55, \n",
    "    autopct=lambda x: '%{:.0f}\\n{:.0f}'.format(x, len(df['left'])*x/100), \n",
    "#     lambda x: '{:.0f}\\n{:.2f}%'.format(len(df['species'])*x/100, x) \n",
    "#     \"%.1f%%\"\n",
    "#     lambda x: f'{(x/100*len(df['species'])):.0f}\\n{x:.2f}%'\n",
    ").legend(loc='best', bbox_to_anchor=(1.0, 0.5), title='Label'); # Not subplots"
   ]
  },
  {
   "cell_type": "markdown",
   "metadata": {
    "id": "9WGUU5nyXuce"
   },
   "source": [
    "most of the employes did the project from 3-5"
   ]
  },
  {
   "cell_type": "markdown",
   "metadata": {
    "id": "un2B37ShYguy"
   },
   "source": [
    "Most of the employee have 2-4 year experience.  "
   ]
  },
  {
   "cell_type": "markdown",
   "metadata": {
    "id": "Vn6NHSZE2smY"
   },
   "source": [
    "### Number of Projects\n",
    "\n",
    "Similarly, you can also plot a bar graph to count the number of employees deployed on how many projects?"
   ]
  },
  {
   "cell_type": "code",
   "execution_count": null,
   "metadata": {},
   "outputs": [],
   "source": []
  },
  {
   "cell_type": "code",
   "execution_count": null,
   "metadata": {},
   "outputs": [],
   "source": []
  },
  {
   "cell_type": "markdown",
   "metadata": {
    "id": "48X9SO4v2smj"
   },
   "source": [
    "### Time Spent in Company\n",
    "\n",
    "Similarly, you can also plot a bar graph to count the number of employees have based on how much experience?\n"
   ]
  },
  {
   "cell_type": "code",
   "execution_count": 63,
   "metadata": {
    "ExecuteTime": {
     "end_time": "2022-11-03T19:13:53.358163Z",
     "start_time": "2022-11-03T19:13:53.236135Z"
    },
    "colab": {
     "base_uri": "https://localhost:8080/",
     "height": 388
    },
    "id": "OW-HRwfU2sml",
    "outputId": "1655f08a-0a44-4b32-ea78-59f3048ce17f"
   },
   "outputs": [
    {
     "data": {
      "image/png": "[encoded data removed]",
      "text/plain": [
       "<Figure size 1000x600 with 1 Axes>"
      ]
     },
     "metadata": {},
     "output_type": "display_data"
    }
   ],
   "source": [
    "time_spent=df.groupby('time_spend_company').count()\n",
    "plt.bar(time_spent.index.values, time_spent['satisfaction_level'])\n",
    "plt.xlabel('Number of Years Spend in Company')\n",
    "plt.ylabel('Number of Employees')\n",
    "plt.show()"
   ]
  },
  {
   "cell_type": "markdown",
   "metadata": {
    "id": "kKNGKNNXZZr_"
   },
   "source": [
    "most of the employes did the project from 3-5"
   ]
  },
  {
   "cell_type": "markdown",
   "metadata": {
    "id": "VEbtBv3q2smq"
   },
   "source": [
    "### Subplots of Features\n",
    "\n",
    "You can use the methods of the matplotlib."
   ]
  },
  {
   "cell_type": "markdown",
   "metadata": {
    "id": "3aLlTXX5Z1ZR"
   },
   "source": [
    "This is how you can analyze the features one by one, but it will be time-consuming. The better option is here to use Seaborn library and plot all the graphs in a single run using subplots."
   ]
  },
  {
   "cell_type": "code",
   "execution_count": 64,
   "metadata": {
    "ExecuteTime": {
     "end_time": "2022-11-03T19:13:56.499011Z",
     "start_time": "2022-11-03T19:13:55.475789Z"
    },
    "colab": {
     "base_uri": "https://localhost:8080/",
     "height": 388
    },
    "id": "W8rrCe8bZQrG",
    "outputId": "75918f10-d302-4e78-aca4-68b0ffbd7ea5"
   },
   "outputs": [
    {
     "data": {
      "image/png": "[encoded data removed]",
      "text/plain": [
       "<Figure size 1400x800 with 5 Axes>"
      ]
     },
     "metadata": {},
     "output_type": "display_data"
    }
   ],
   "source": [
    "df_num = df.select_dtypes(\"number\").drop(columns=[\"work_accident\", \"promotion_last_5years\" ])\n",
    "\n",
    "plt.figure(figsize=(14,8))\n",
    "i =1\n",
    "\n",
    "for col in df_num.drop(columns = \"left\").columns:\n",
    "    plt.subplot(2,3,i)\n",
    "    ax = sns.barplot(data=df_num, x=\"left\", y=col, ci=False)\n",
    "    ax.bar_label(ax.containers[0], fmt=\"%.2f\")\n",
    "    i +=1;\n",
    "    \n",
    "plt.subplots_adjust(top=0.93, wspace=0.4, hspace=0.4)"
   ]
  },
  {
   "cell_type": "code",
   "execution_count": 65,
   "metadata": {
    "ExecuteTime": {
     "end_time": "2022-11-03T19:13:57.084458Z",
     "start_time": "2022-11-03T19:13:56.851414Z"
    }
   },
   "outputs": [
    {
     "data": {
      "image/png": "[encoded data removed]",
      "text/plain": [
       "<Figure size 1000x400 with 2 Axes>"
      ]
     },
     "metadata": {},
     "output_type": "display_data"
    }
   ],
   "source": [
    "plt.figure(figsize=(10,4))\n",
    "\n",
    "plt.subplot(121)\n",
    "ax = sns.countplot(data=df, hue='left', x='promotion_last_5years');\n",
    "for p in ax.containers:\n",
    "    ax.bar_label(p)\n",
    "    \n",
    "df_per = df.groupby(\"promotion_last_5years\")[[\"left\"]].value_counts(normalize=True).reset_index().sort_values(by=0)\n",
    "\n",
    "plt.subplot(122)\n",
    "ax = sns.barplot(data=df_per, x=\"promotion_last_5years\", y=0, hue=\"left\",\n",
    "                 order=(df.promotion_last_5years.value_counts().index)\n",
    "                )\n",
    "ax.set(ylabel='percentage')\n",
    "\n",
    "for p in ax.containers:\n",
    "    ax.bar_label(p, fmt='%.2f')"
   ]
  },
  {
   "cell_type": "code",
   "execution_count": 66,
   "metadata": {
    "ExecuteTime": {
     "end_time": "2022-11-03T19:13:58.832871Z",
     "start_time": "2022-11-03T19:13:58.611821Z"
    }
   },
   "outputs": [
    {
     "data": {
      "image/png": "[encoded data removed]",
      "text/plain": [
       "<Figure size 1000x400 with 2 Axes>"
      ]
     },
     "metadata": {},
     "output_type": "display_data"
    }
   ],
   "source": [
    "plt.figure(figsize=(10,4))\n",
    "plt.subplot(121)\n",
    "ax = sns.countplot(data=df, x='work_accident', hue='left');\n",
    "for p in ax.containers:\n",
    "    ax.bar_label(p)\n",
    "    \n",
    "plt.subplot(122)\n",
    "\n",
    "df_per = df.groupby(\"work_accident\")[[\"left\"]].value_counts(normalize=True).reset_index().sort_values(by=0)\n",
    "\n",
    "ax = sns.barplot(data=df_per, order=(df.work_accident.value_counts().index), \n",
    "                hue=\"left\", y=0, x=\"work_accident\")\n",
    "ax.set(ylabel='percentage')\n",
    "\n",
    "for p in ax.containers:\n",
    "    ax.bar_label(p, fmt='%.2f')"
   ]
  },
  {
   "cell_type": "code",
   "execution_count": 67,
   "metadata": {
    "ExecuteTime": {
     "end_time": "2022-11-03T19:14:00.610580Z",
     "start_time": "2022-11-03T19:14:00.267510Z"
    }
   },
   "outputs": [
    {
     "data": {
      "image/png": "[encoded data removed]",
      "text/plain": [
       "<Figure size 1200x400 with 2 Axes>"
      ]
     },
     "metadata": {},
     "output_type": "display_data"
    }
   ],
   "source": [
    "plt.figure(figsize=(12,4))\n",
    "plt.subplot(121)\n",
    "ax = sns.countplot(data=df, hue='left', x='salary');\n",
    "for p in ax.containers:\n",
    "    ax.bar_label(p)\n",
    "    \n",
    "plt.subplot(122)\n",
    "\n",
    "df_per = df.groupby(\"salary\")[[\"left\"]].value_counts(normalize=True).reset_index().sort_values(by=0)\n",
    "\n",
    "ax = sns.barplot(data=df_per, order=(df.salary.value_counts().index), \n",
    "                x=\"salary\", y=0, hue=\"left\")\n",
    "ax.set(ylabel='percentage')\n",
    "\n",
    "for p in ax.containers:\n",
    "    ax.bar_label(p, fmt='%.2f')"
   ]
  },
  {
   "cell_type": "code",
   "execution_count": 69,
   "metadata": {
    "ExecuteTime": {
     "end_time": "2022-11-03T19:14:04.255929Z",
     "start_time": "2022-11-03T19:14:03.723805Z"
    },
    "colab": {
     "base_uri": "https://localhost:8080/",
     "height": 924
    },
    "id": "Gt8FWYQu2smu",
    "outputId": "4a30290f-de6e-4864-9b99-009d085ecd73",
    "run_control": {
     "marked": false
    }
   },
   "outputs": [
    {
     "data": {
      "image/png": "[encoded data removed]",
      "text/plain": [
       "<Figure size 1600x800 with 2 Axes>"
      ]
     },
     "metadata": {},
     "output_type": "display_data"
    }
   ],
   "source": [
    "plt.figure(figsize=(16,8))\n",
    "\n",
    "plt.subplot(121)\n",
    "ax = sns.countplot(data=df, x='departments', hue='left',\n",
    "                   order=(df.departments.value_counts().index));\n",
    "plt.xticks(rotation=45)\n",
    "for p in ax.containers:\n",
    "    ax.bar_label(p)\n",
    "\n",
    "    \n",
    "df_per = df.groupby(\"departments\")[[\"left\"]].value_counts(normalize=True).reset_index().sort_values(by=0)\n",
    "\n",
    "plt.subplot(122)\n",
    "ax = sns.barplot(data=df_per, x=\"departments\", y=0, hue=\"left\",\n",
    "                                    order=(df.departments.value_counts().index))\n",
    "plt.xticks(rotation=45)\n",
    "ax.set(ylabel='percentage')\n",
    "for p in ax.containers:\n",
    "    ax.bar_label(p, fmt='%.2f')\n",
    "\n"
   ]
  },
  {
   "cell_type": "code",
   "execution_count": 70,
   "metadata": {
    "ExecuteTime": {
     "end_time": "2022-11-03T19:14:08.520135Z",
     "start_time": "2022-11-03T19:14:08.324091Z"
    },
    "colab": {
     "base_uri": "https://localhost:8080/",
     "height": 924
    },
    "id": "Ga98RK_WbAzc",
    "outputId": "6ed782f4-24fd-4d45-e5f7-f65fab0c4a04"
   },
   "outputs": [
    {
     "data": {
      "text/plain": [
       "Text(0.5, 1.0, 'Correlation Matrix')"
      ]
     },
     "execution_count": 70,
     "metadata": {},
     "output_type": "execute_result"
    },
    {
     "data": {
      "image/png": "[encoded data removed]",
      "text/plain": [
       "<Figure size 500x400 with 2 Axes>"
      ]
     },
     "metadata": {},
     "output_type": "display_data"
    }
   ],
   "source": [
    "plt.figure(figsize=(5,4))\n",
    "sns.heatmap(df_num.drop(columns=\"left\").corr(),annot=True, cmap='viridis')\n",
    "plt.title(\"Correlation Matrix\")"
   ]
  },
  {
   "cell_type": "code",
   "execution_count": 71,
   "metadata": {
    "ExecuteTime": {
     "end_time": "2022-11-03T19:14:10.470167Z",
     "start_time": "2022-11-03T19:14:10.340149Z"
    }
   },
   "outputs": [
    {
     "data": {
      "text/plain": [
       "<AxesSubplot:>"
      ]
     },
     "execution_count": 71,
     "metadata": {},
     "output_type": "execute_result"
    },
    {
     "data": {
      "image/png": "[encoded data removed]",
      "text/plain": [
       "<Figure size 1200x600 with 1 Axes>"
      ]
     },
     "metadata": {},
     "output_type": "display_data"
    }
   ],
   "source": [
    "plt.figure(figsize=(12, 6))\n",
    "df.corr()['left'].drop('left').sort_values().plot.barh()"
   ]
  },
  {
   "cell_type": "markdown",
   "metadata": {
    "id": "jF47RrGdbN6R"
   },
   "source": [
    "You can observe the following points in the above visualization:\n",
    "\n",
    "Those employees who have the number of projects more than 5 were left the company.\n",
    "The employee who had done 6 and 7 projects, left the company it seems to like that they were overloaded with work.\n",
    "The employee with five-year experience is leaving more because of no promotions in last 5 years and more than 6 years experience are not leaving because of affection with the company.\n",
    "Those who promotion in last 5 years they didn't leave, i.e., all those left they didn't get the promotion in the previous 5 years."
   ]
  },
  {
   "cell_type": "code",
   "execution_count": null,
   "metadata": {
    "ExecuteTime": {
     "end_time": "2022-11-03T19:12:03.313153Z",
     "start_time": "2022-11-03T19:12:03.313153Z"
    },
    "id": "Hd8Hl8u2bX5N"
   },
   "outputs": [],
   "source": [
    "Data Analysis and Visualization Summary:\n",
    "Following features are most influencing a person to leave the company:\n",
    "\n",
    "Promotions: Employees are far more likely to quit their job if they haven't received a promotion in the last 5 years.\n",
    "Time with Company: Here, The three-year mark looks like a time to be a crucial point in an employee's career. Most of them quit their job around the three-year mark. Another important point is 6-years point, where the employee is very unlikely to leave.\n",
    "Number Of Projects: Employee engagement is another critical factor to influence the employee to leave the company. Employees with 3-5 projects are less likely to leave the company. The employee with less and more number of projects are likely to leave.\n",
    "Salary: Most of the employees that quit among the mid or low salary groups."
   ]
  },
  {
   "cell_type": "markdown",
   "metadata": {
    "id": "36OyDJyx2sm2"
   },
   "source": [
    "## 3. Data Pre-Processing"
   ]
  },
  {
   "cell_type": "markdown",
   "metadata": {
    "id": "iN94C5P42sm4"
   },
   "source": [
    "#### Scaling\n",
    "\n",
    "Some machine learning algorithms are sensitive to feature scaling while others are virtually invariant to it. Machine learning algorithms like linear regression, logistic regression, neural network, etc. that use gradient descent as an optimization technique require data to be scaled. Also distance algorithms like KNN, K-means, and SVM are most affected by the range of features. This is because behind the scenes they are using distances between data points to determine their similarity.\n",
    "\n",
    "Scaling Types:\n",
    "- Normalization: Normalization is a scaling technique in which values are shifted and rescaled so that they end up ranging between 0 and 1. It is also known as Min-Max scaling.\n",
    "\n",
    "- Standardization: Standardization is another scaling technique where the values are centered around the mean with a unit standard deviation. This means that the mean of the attribute becomes zero and the resultant distribution has a unit standard deviation.\n",
    "\n",
    "    "
   ]
  },
  {
   "cell_type": "code",
   "execution_count": null,
   "metadata": {
    "id": "1HXszRiq2sm4"
   },
   "outputs": [],
   "source": []
  },
  {
   "cell_type": "markdown",
   "metadata": {
    "id": "L8-SVBoq2snA"
   },
   "source": [
    "#### Encoding\n",
    "\n",
    "Lots of machine learning algorithms require numerical input data, so you need to represent categorical columns in a numerical column. In order to encode this data, you could map each value to a number. e.g. Salary column's value can be represented as low:0, medium:1, and high:2. This process is known as label encoding, and sklearn conveniently will do this for you using LabelEncoder.\n",
    "\n"
   ]
  },
  {
   "cell_type": "code",
   "execution_count": null,
   "metadata": {
    "id": "-pVP9UBQ2snC"
   },
   "outputs": [],
   "source": []
  },
  {
   "cell_type": "markdown",
   "metadata": {
    "id": "c1Gp2f7q2snF"
   },
   "source": [
    "## 4. Cluster Analysis\n",
    "\n",
    "- Cluster analysis or clustering is the task of grouping a set of objects in such a way that objects in the same group (called a cluster) are more similar (in some sense) to each other than to those in other groups (clusters). It is a main task of exploratory data mining, and a common technique for statistical data analysis, used in many fields, including pattern recognition, image analysis, information retrieval, bioinformatics, data compression, computer graphics and machine learning.\n",
    "\n",
    "    [Cluster Analysis](https://en.wikipedia.org/wiki/Cluster_analysis)\n",
    "\n",
    "    [Cluster Analysis2](https://realpython.com/k-means-clustering-python/)"
   ]
  },
  {
   "cell_type": "markdown",
   "metadata": {
    "id": "TWQx_bhw2snG"
   },
   "source": [
    "#### The Elbow Method\n",
    "\n",
    "- \"Elbow Method\" can be used to find the optimum number of clusters in cluster analysis. The elbow method is used to determine the optimal number of clusters in k-means clustering. The elbow method plots the value of the cost function produced by different values of k. If k increases, average distortion will decrease, each cluster will have fewer constituent instances, and the instances will be closer to their respective centroids. However, the improvements in average distortion will decline as k increases. The value of k at which improvement in distortion declines the most is called the elbow, at which we should stop dividing the data into further clusters.\n",
    "\n",
    "    [The Elbow Method](https://en.wikipedia.org/wiki/Elbow_method_(clustering)\n",
    "\n",
    "    [The Elbow Method2](https://medium.com/@mudgalvivek2911/machine-learning-clustering-elbow-method-4e8c2b404a5d)\n",
    "\n",
    "    [KMeans](https://towardsdatascience.com/understanding-k-means-clustering-in-machine-learning-6a6e67336aa1)\n",
    "\n",
    "Let's find out the groups of employees who left. You can observe that the most important factor for any employee to stay or leave is satisfaction and performance in the company. So let's bunch them in the group of people using cluster analysis."
   ]
  },
  {
   "cell_type": "code",
   "execution_count": null,
   "metadata": {
    "id": "jMLD4mr32snH"
   },
   "outputs": [],
   "source": []
  },
  {
   "cell_type": "markdown",
   "metadata": {
    "id": "WpmbaABr2snN"
   },
   "source": [
    "## 5. Model Building"
   ]
  },
  {
   "cell_type": "markdown",
   "metadata": {
    "id": "pYsKmaZd2snO"
   },
   "source": [
    "### Split Data as Train and Test Set"
   ]
  },
  {
   "cell_type": "code",
   "execution_count": null,
   "metadata": {
    "id": "S15Bpefl2snS"
   },
   "outputs": [],
   "source": []
  },
  {
   "cell_type": "markdown",
   "metadata": {
    "id": "z9P157eX2sn2"
   },
   "source": [
    "### #Distance Based(?) Algorithm"
   ]
  },
  {
   "cell_type": "markdown",
   "metadata": {
    "id": "L8OkbOrC2snY"
   },
   "source": [
    "#### Model Building"
   ]
  },
  {
   "cell_type": "code",
   "execution_count": null,
   "metadata": {
    "id": "MefRCx542snY"
   },
   "outputs": [],
   "source": []
  },
  {
   "cell_type": "markdown",
   "metadata": {
    "id": "VAiUMdtI2snk"
   },
   "source": [
    "#### Evaluating Model Performance and Tuning"
   ]
  },
  {
   "cell_type": "markdown",
   "metadata": {
    "id": "92xg3rvR2snl"
   },
   "source": [
    "- Confusion Matrix : You can use scikit-learn metrics module for accuracy calculation. A Confusion matrix is an N x N matrix used for evaluating the performance of a classification model, where N is the number of target classes. The matrix compares the actual target values with those predicted by the machine learning model. This gives us a holistic view of how well our classification model is performing and what kinds of errors it is making.\n",
    "\n",
    "    [Confusion Matrix](https://www.analyticsvidhya.com/blog/2020/04/confusion-matrix-machine-learning/)"
   ]
  },
  {
   "cell_type": "markdown",
   "metadata": {
    "id": "S9VeChm62snm"
   },
   "source": [
    "- Yellowbrick: Yellowbrick is a suite of visualization and diagnostic tools that will enable quicker model selection. It’s a Python package that combines scikit-learn and matplotlib. Some of the more popular visualization tools include model selection, feature visualization, classification and regression visualization\n",
    "\n",
    "    [Yellowbrick](https://www.analyticsvidhya.com/blog/2018/05/yellowbrick-a-set-of-visualization-tools-to-accelerate-your-model-selection-process/)"
   ]
  },
  {
   "cell_type": "code",
   "execution_count": null,
   "metadata": {
    "id": "CSUOz5302snx"
   },
   "outputs": [],
   "source": []
  },
  {
   "cell_type": "markdown",
   "metadata": {
    "id": "90HfPd4w2sn1"
   },
   "source": [
    "#### Prediction"
   ]
  },
  {
   "cell_type": "code",
   "execution_count": null,
   "metadata": {
    "id": "R0U41iE8QYJj"
   },
   "outputs": [],
   "source": []
  },
  {
   "cell_type": "markdown",
   "metadata": {
    "id": "PfMy1D_p2soK"
   },
   "source": [
    "### #Random Forest Classifier"
   ]
  },
  {
   "cell_type": "markdown",
   "metadata": {
    "id": "QPakx2ON2sn3"
   },
   "source": [
    "#### Model Building"
   ]
  },
  {
   "cell_type": "code",
   "execution_count": null,
   "metadata": {
    "id": "HkNI16f72sn4"
   },
   "outputs": [],
   "source": []
  },
  {
   "cell_type": "markdown",
   "metadata": {
    "id": "MdGymWJ_2sn9"
   },
   "source": [
    "#### Evaluating Model Performance and Tuning"
   ]
  },
  {
   "cell_type": "code",
   "execution_count": null,
   "metadata": {
    "id": "TPF_wziW2soC"
   },
   "outputs": [],
   "source": []
  },
  {
   "cell_type": "markdown",
   "metadata": {
    "id": "_BYTdWlr2soJ"
   },
   "source": [
    "#### Prediction"
   ]
  },
  {
   "cell_type": "code",
   "execution_count": null,
   "metadata": {
    "id": "9KT7jzZ-TgMe"
   },
   "outputs": [],
   "source": []
  },
  {
   "cell_type": "markdown",
   "metadata": {
    "id": "Y4d55Vek2snX"
   },
   "source": [
    "### #XGBoost Classifier"
   ]
  },
  {
   "cell_type": "markdown",
   "metadata": {
    "id": "M4GifMUw2soL"
   },
   "source": [
    "#### Model Building"
   ]
  },
  {
   "cell_type": "code",
   "execution_count": null,
   "metadata": {
    "id": "uhjBZQbu2soN"
   },
   "outputs": [],
   "source": []
  },
  {
   "cell_type": "markdown",
   "metadata": {
    "id": "xRUPvrME2soc"
   },
   "source": [
    "#### Evaluating Model Performance and Tuning"
   ]
  },
  {
   "cell_type": "code",
   "execution_count": null,
   "metadata": {
    "id": "tXKuonpN2soe"
   },
   "outputs": [],
   "source": []
  },
  {
   "cell_type": "markdown",
   "metadata": {
    "id": "SKLtTwJ82som"
   },
   "source": [
    "#### Prediction"
   ]
  },
  {
   "cell_type": "code",
   "execution_count": null,
   "metadata": {
    "id": "QdFUSrml2sop"
   },
   "outputs": [],
   "source": []
  },
  {
   "cell_type": "markdown",
   "metadata": {
    "id": "zrozB3YHQYJq"
   },
   "source": [
    "### #ANN Classifier"
   ]
  },
  {
   "cell_type": "markdown",
   "metadata": {
    "id": "GUTIjKF3QYJq"
   },
   "source": [
    "#### Layer Architecture Building and Compiling"
   ]
  },
  {
   "cell_type": "code",
   "execution_count": null,
   "metadata": {
    "id": "eDADaqNyQYJr"
   },
   "outputs": [],
   "source": []
  },
  {
   "cell_type": "markdown",
   "metadata": {
    "id": "r8IcTlRxQYJr"
   },
   "source": [
    "#### Evaluating Model Performance and Tunning"
   ]
  },
  {
   "cell_type": "code",
   "execution_count": null,
   "metadata": {
    "id": "Wp8EjPhsQYJs"
   },
   "outputs": [],
   "source": []
  },
  {
   "cell_type": "markdown",
   "metadata": {
    "id": "EODePC1MQYJt"
   },
   "source": [
    "#### Prediction"
   ]
  },
  {
   "cell_type": "code",
   "execution_count": null,
   "metadata": {
    "id": "G1YyfoKEQYJt"
   },
   "outputs": [],
   "source": []
  },
  {
   "cell_type": "markdown",
   "metadata": {
    "id": "Hv7E8XsazFMM"
   },
   "source": [
    "## 6. Model Deployement\n",
    "\n",
    "You cooked the food in the kitchen and moved on to the serving stage. The question is how do you showcase your work to others? Model Deployement helps you showcase your work to the world and make better decisions with it. But, deploying a model can get a little tricky at times. Before deploying the model, many things such as data storage, preprocessing, model building and monitoring need to be studied. Streamlit is a popular open source framework used by data scientists for model distribution.\n",
    "\n",
    "Deployment of machine learning models, means making your models available to your other business systems. By deploying models, other systems can send data to them and get their predictions, which are in turn populated back into the company systems. Through machine learning model deployment, can begin to take full advantage of the model you built.\n",
    "\n",
    "Data science is concerned with how to build machine learning models, which algorithm is more predictive, how to design features, and what variables to use to make the models more accurate. However, how these models are actually used is often neglected. And yet this is the most important step in the machine learning pipline. Only when a model is fully integrated with the business systems, real values ​​can be extract from its predictions.\n",
    "\n",
    "After doing the following operations in this notebook, jump to new .py file and create your web app with Streamlit."
   ]
  },
  {
   "cell_type": "markdown",
   "metadata": {
    "id": "m5pwXBOkJPeM"
   },
   "source": [
    "### Save and Export the Model"
   ]
  },
  {
   "cell_type": "code",
   "execution_count": null,
   "metadata": {
    "id": "mmlin9CEzFr7"
   },
   "outputs": [],
   "source": []
  },
  {
   "cell_type": "markdown",
   "metadata": {
    "id": "r7sGSN6RJR6V"
   },
   "source": [
    "### Save and Export Variables\n"
   ]
  },
  {
   "cell_type": "code",
   "execution_count": null,
   "metadata": {
    "id": "2WeQNcROJScb"
   },
   "outputs": [],
   "source": []
  },
  {
   "cell_type": "markdown",
   "metadata": {
    "id": "aD6JV41czCKr"
   },
   "source": [
    "___\n",
    "\n",
    "<p style=\"text-align: center;\"><img src=\"https://docs.google.com/uc?id=1lY0Uj5R04yMY3-ZppPWxqCr5pvBLYPnV\" class=\"img-fluid\" alt=\"CLRSWY\"></p>\n",
    "\n",
    "___"
   ]
  }
 ],
 "metadata": {
  "colab": {
   "collapsed_sections": [],
   "provenance": []
  },
  "gpuClass": "standard",
  "kernelspec": {
   "display_name": "Python 3 (ipykernel)",
   "language": "python",
   "name": "python3"
  },
  "language_info": {
   "codemirror_mode": {
    "name": "ipython",
    "version": 3
   },
   "file_extension": ".py",
   "mimetype": "text/x-python",
   "name": "python",
   "nbconvert_exporter": "python",
   "pygments_lexer": "ipython3",
   "version": "3.9.13"
  },
  "toc": {
   "base_numbering": 1,
   "nav_menu": {},
   "number_sections": true,
   "sideBar": true,
   "skip_h1_title": false,
   "title_cell": "Table of Contents",
   "title_sidebar": "Contents",
   "toc_cell": false,
   "toc_position": {},
   "toc_section_display": true,
   "toc_window_display": false
  },
  "vscode": {
   "interpreter": {
    "hash": "c2ed1c1e3dda2d1d09010f3df351d528d97a393444344645f0fddd23da56b409"
   }
  }
 },
 "nbformat": 4,
 "nbformat_minor": 1
}
